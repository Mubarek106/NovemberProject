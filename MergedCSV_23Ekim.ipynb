{
 "cells": [
  {
   "cell_type": "markdown",
   "metadata": {},
   "source": [
    "# 1. Merge the seperated csv files in Thursday"
   ]
  },
  {
   "cell_type": "code",
   "execution_count": 1,
   "metadata": {},
   "outputs": [],
   "source": [
    "import pandas, sys\n",
    "import pandas as pd\n"
   ]
  },
  {
   "cell_type": "code",
   "execution_count": 2,
   "metadata": {},
   "outputs": [],
   "source": [
    "# No warning of any kind please!\n",
    "import warnings\n",
    "# will ignore any warnings\n",
    "warnings.filterwarnings(\"ignore\")"
   ]
  },
  {
   "cell_type": "code",
   "execution_count": 3,
   "metadata": {},
   "outputs": [],
   "source": [
    "# import all dataframes \n",
    "Mon_DF = pd.read_csv(\"K:/CIC-2017-dataset/CIC-IDS-2017/MachineLearningCVE/Monday-WorkingHours.pcap_ISCX.csv\")\n",
    "Thu_DF = pd.read_csv(\"K:/CIC-2017-dataset/CIC-IDS-2017/MachineLearningCVE/Tuesday-WorkingHours.pcap_ISCX.csv\")\n",
    "Wed_DF = pd.read_csv(\"K:/CIC-2017-dataset/CIC-IDS-2017/MachineLearningCVE/Wednesday-workingHours.pcap_ISCX.csv\")\n",
    "ThurM_DF = pd.read_csv(\"K:/CIC-2017-dataset/CIC-IDS-2017/MachineLearningCVE/Thursday-WorkingHours-Morning-WebAttacks.pcap_ISCX.csv\")\n",
    "ThurA_DF = pd.read_csv(\"K:/CIC-2017-dataset/CIC-IDS-2017/MachineLearningCVE/Thursday-WorkingHours-Afternoon-Infilteration.pcap_ISCX.csv\")\n",
    "FriM_DF = pd.read_csv(\"K:/CIC-2017-dataset/CIC-IDS-2017/MachineLearningCVE/Friday-WorkingHours-Morning.pcap_ISCX.csv\")\n",
    "FriA_DF = pd.read_csv(\"K:/CIC-2017-dataset/CIC-IDS-2017/MachineLearningCVE/Friday-WorkingHours-Afternoon-DDos.pcap_ISCX.csv\")\n",
    "FriE_DF = pd.read_csv(\"K:/CIC-2017-dataset/CIC-IDS-2017/MachineLearningCVE/Friday-WorkingHours-Afternoon-PortScan.pcap_ISCX.csv\")\n"
   ]
  },
  {
   "cell_type": "code",
   "execution_count": 4,
   "metadata": {},
   "outputs": [
    {
     "data": {
      "text/plain": [
       "(286467, 79)"
      ]
     },
     "execution_count": 4,
     "metadata": {},
     "output_type": "execute_result"
    }
   ],
   "source": [
    "Mon_DF.shape     # (529918, 79)\n",
    "Thu_DF.shape     # (445909, 79)\n",
    "Wed_DF.shape     # (692703, 79)\n",
    "ThurM_DF.shape   # (170366, 79)\n",
    "ThurA_DF.shape   # (1158, 1)\n",
    "FriM_DF.shape    # (191033, 79)\n",
    "FriA_DF.shape    # (225745, 79)\n",
    "FriE_DF.shape    # (286467, 79)"
   ]
  },
  {
   "cell_type": "code",
   "execution_count": 5,
   "metadata": {},
   "outputs": [
    {
     "data": {
      "text/plain": [
       " Label\n",
       "BENIGN    529918\n",
       "dtype: int64"
      ]
     },
     "execution_count": 5,
     "metadata": {},
     "output_type": "execute_result"
    }
   ],
   "source": [
    "# grouping by forest cover type and calculating total occurance\n",
    "# BENIGN    529918\n",
    "Mon_DF.groupby(' Label').size()"
   ]
  },
  {
   "cell_type": "code",
   "execution_count": 6,
   "metadata": {},
   "outputs": [
    {
     "data": {
      "text/plain": [
       " Label\n",
       "BENIGN         432074\n",
       "FTP-Patator      7938\n",
       "SSH-Patator      5897\n",
       "dtype: int64"
      ]
     },
     "execution_count": 6,
     "metadata": {},
     "output_type": "execute_result"
    }
   ],
   "source": [
    "# grouping by forest cover type and calculating total occurance\n",
    "# BENIGN         432074\n",
    "# FTP-Patator      7938\n",
    "# SSH-Patator      5897\n",
    "Thu_DF.groupby(' Label').size()"
   ]
  },
  {
   "cell_type": "code",
   "execution_count": 7,
   "metadata": {},
   "outputs": [
    {
     "data": {
      "text/plain": [
       " Label\n",
       "BENIGN              440031\n",
       "DoS GoldenEye        10293\n",
       "DoS Hulk            231073\n",
       "DoS Slowhttptest      5499\n",
       "DoS slowloris         5796\n",
       "Heartbleed              11\n",
       "dtype: int64"
      ]
     },
     "execution_count": 7,
     "metadata": {},
     "output_type": "execute_result"
    }
   ],
   "source": [
    "# grouping by forest cover type and calculating total occurance\n",
    "# BENIGN              440031\n",
    "# DoS GoldenEye        10293\n",
    "# DoS Hulk            231073\n",
    "# DoS Slowhttptest      5499\n",
    "# DoS slowloris         5796\n",
    "# Heartbleed              11\n",
    "Wed_DF.groupby(' Label').size()"
   ]
  },
  {
   "cell_type": "code",
   "execution_count": 8,
   "metadata": {},
   "outputs": [
    {
     "data": {
      "text/plain": [
       " Label\n",
       "BENIGN                        168186\n",
       "Web Attack � Brute Force        1507\n",
       "Web Attack � Sql Injection        21\n",
       "Web Attack � XSS                 652\n",
       "dtype: int64"
      ]
     },
     "execution_count": 8,
     "metadata": {},
     "output_type": "execute_result"
    }
   ],
   "source": [
    "# grouping by forest cover type and calculating total occurance\n",
    "# BENIGN                        168186\n",
    "# Web Attack � Brute Force        1507\n",
    "# Web Attack � Sql Injection        21\n",
    "# Web Attack � XSS                 652\n",
    "ThurM_DF.groupby(' Label').size()"
   ]
  },
  {
   "cell_type": "code",
   "execution_count": 8,
   "metadata": {},
   "outputs": [
    {
     "data": {
      "text/plain": [
       "D\n",
       "\\r\\n     1\n",
       ",       78\n",
       "/        9\n",
       "A       28\n",
       "B       32\n",
       "C       11\n",
       "D        2\n",
       "E        3\n",
       "F       42\n",
       "G        3\n",
       "H        6\n",
       "I       21\n",
       "K        1\n",
       "L       19\n",
       "M       24\n",
       "N        2\n",
       "P       29\n",
       "R        7\n",
       "S       22\n",
       "T       21\n",
       "U        4\n",
       "V        1\n",
       "W        3\n",
       "Y        1\n",
       "_       12\n",
       "a       80\n",
       "b        8\n",
       "c       33\n",
       "d       63\n",
       "e       88\n",
       "f        9\n",
       "g       42\n",
       "h       18\n",
       "i       26\n",
       "k       34\n",
       "l       40\n",
       "m        3\n",
       "n       54\n",
       "o       34\n",
       "p        2\n",
       "r       13\n",
       "s       29\n",
       "t       90\n",
       "u       19\n",
       "v       13\n",
       "w       59\n",
       "x        8\n",
       "y        7\n",
       "z        4\n",
       "dtype: int64"
      ]
     },
     "execution_count": 8,
     "metadata": {},
     "output_type": "execute_result"
    }
   ],
   "source": [
    "ThurA_DF.groupby('D').size()"
   ]
  },
  {
   "cell_type": "code",
   "execution_count": 10,
   "metadata": {},
   "outputs": [
    {
     "data": {
      "text/plain": [
       " Label\n",
       "BENIGN    189067\n",
       "Bot         1966\n",
       "dtype: int64"
      ]
     },
     "execution_count": 10,
     "metadata": {},
     "output_type": "execute_result"
    }
   ],
   "source": [
    "# grouping by forest cover type and calculating total occurance\n",
    "# BENIGN    189067\n",
    "# Bot         1966\n",
    "FriM_DF.groupby(' Label').size()"
   ]
  },
  {
   "cell_type": "code",
   "execution_count": 11,
   "metadata": {},
   "outputs": [
    {
     "data": {
      "text/plain": [
       " Label\n",
       "BENIGN     97718\n",
       "DDoS      128027\n",
       "dtype: int64"
      ]
     },
     "execution_count": 11,
     "metadata": {},
     "output_type": "execute_result"
    }
   ],
   "source": [
    "# grouping by forest cover type and calculating total occurance\n",
    "# BENIGN     97718\n",
    "# DDoS      128027\n",
    "FriA_DF.groupby(' Label').size()"
   ]
  },
  {
   "cell_type": "code",
   "execution_count": 12,
   "metadata": {},
   "outputs": [
    {
     "data": {
      "text/plain": [
       " Label\n",
       "BENIGN      127537\n",
       "PortScan    158930\n",
       "dtype: int64"
      ]
     },
     "execution_count": 12,
     "metadata": {},
     "output_type": "execute_result"
    }
   ],
   "source": [
    "# grouping by forest cover type and calculating total occurance\n",
    "# BENIGN      127537\n",
    "# PortScan    158930\n",
    "FriE_DF.groupby(' Label').size()"
   ]
  },
  {
   "cell_type": "code",
   "execution_count": 13,
   "metadata": {},
   "outputs": [],
   "source": [
    "Merged_MonTueWed = pd.concat([Mon_DF,Thu_DF,Wed_DF], axis=0)   # (1668530, 79)"
   ]
  },
  {
   "cell_type": "code",
   "execution_count": 14,
   "metadata": {},
   "outputs": [
    {
     "data": {
      "text/plain": [
       " Label\n",
       "BENIGN              1402023\n",
       "DoS GoldenEye         10293\n",
       "DoS Hulk             231073\n",
       "DoS Slowhttptest       5499\n",
       "DoS slowloris          5796\n",
       "FTP-Patator            7938\n",
       "Heartbleed               11\n",
       "SSH-Patator            5897\n",
       "dtype: int64"
      ]
     },
     "execution_count": 14,
     "metadata": {},
     "output_type": "execute_result"
    }
   ],
   "source": [
    "# grouping by forest cover type and calculating total occurance\n",
    "# BENIGN              1402023\n",
    "# DoS GoldenEye         10293\n",
    "# DoS Hulk             231073\n",
    "# DoS Slowhttptest       5499\n",
    "# DoS slowloris          5796\n",
    "# FTP-Patator            7938\n",
    "# Heartbleed               11\n",
    "# SSH-Patator            5897\n",
    "Merged_MonTueWed.groupby(' Label').size()"
   ]
  },
  {
   "cell_type": "code",
   "execution_count": 15,
   "metadata": {},
   "outputs": [],
   "source": [
    "Merged_Fri = pd.concat([FriM_DF,FriA_DF,FriE_DF], axis=0)   # (703245, 79)"
   ]
  },
  {
   "cell_type": "code",
   "execution_count": 16,
   "metadata": {},
   "outputs": [
    {
     "data": {
      "text/plain": [
       " Label\n",
       "BENIGN      414322\n",
       "Bot           1966\n",
       "DDoS        128027\n",
       "PortScan    158930\n",
       "dtype: int64"
      ]
     },
     "execution_count": 16,
     "metadata": {},
     "output_type": "execute_result"
    }
   ],
   "source": [
    "# grouping by forest cover type and calculating total occurance\n",
    "# BENIGN              1402023\n",
    "# DoS GoldenEye         10293\n",
    "# DoS Hulk             231073\n",
    "# DoS Slowhttptest       5499\n",
    "# DoS slowloris          5796\n",
    "# FTP-Patator            7938\n",
    "# Heartbleed               11\n",
    "# SSH-Patator            5897\n",
    "Merged_Fri.groupby(' Label').size()"
   ]
  },
  {
   "cell_type": "code",
   "execution_count": 17,
   "metadata": {},
   "outputs": [],
   "source": [
    "Merged_ThurFri = pd.concat([ThurM_DF,Merged_Fri], axis=0)   # (873611, 79)"
   ]
  },
  {
   "cell_type": "code",
   "execution_count": 18,
   "metadata": {},
   "outputs": [
    {
     "data": {
      "text/plain": [
       " Label\n",
       "BENIGN                        582508\n",
       "Bot                             1966\n",
       "DDoS                          128027\n",
       "PortScan                      158930\n",
       "Web Attack � Brute Force        1507\n",
       "Web Attack � Sql Injection        21\n",
       "Web Attack � XSS                 652\n",
       "dtype: int64"
      ]
     },
     "execution_count": 18,
     "metadata": {},
     "output_type": "execute_result"
    }
   ],
   "source": [
    "# grouping by forest cover type and calculating total occurance\n",
    "# BENIGN                        582508\n",
    "# Bot                             1966\n",
    "# DDoS                          128027\n",
    "# PortScan                      158930\n",
    "# Web Attack � Brute Force        1507\n",
    "# Web Attack � Sql Injection        21\n",
    "# Web Attack � XSS                 652\n",
    "Merged_ThurFri.groupby(' Label').size()"
   ]
  },
  {
   "cell_type": "code",
   "execution_count": 19,
   "metadata": {},
   "outputs": [],
   "source": [
    "MergedAll = pd.concat([Merged_MonTueWed,Merged_ThurFri], axis=0)   # (2542141, 79)"
   ]
  },
  {
   "cell_type": "code",
   "execution_count": 20,
   "metadata": {},
   "outputs": [
    {
     "data": {
      "text/plain": [
       " Label\n",
       "BENIGN                        1984531\n",
       "Bot                              1966\n",
       "DDoS                           128027\n",
       "DoS GoldenEye                   10293\n",
       "DoS Hulk                       231073\n",
       "DoS Slowhttptest                 5499\n",
       "DoS slowloris                    5796\n",
       "FTP-Patator                      7938\n",
       "Heartbleed                         11\n",
       "PortScan                       158930\n",
       "SSH-Patator                      5897\n",
       "Web Attack � Brute Force         1507\n",
       "Web Attack � Sql Injection         21\n",
       "Web Attack � XSS                  652\n",
       "dtype: int64"
      ]
     },
     "execution_count": 20,
     "metadata": {},
     "output_type": "execute_result"
    }
   ],
   "source": [
    "# grouping by forest cover type and calculating total occurance\n",
    "# BENIGN                        1984531\n",
    "# Bot                              1966\n",
    "# DDoS                           128027\n",
    "# DoS GoldenEye                   10293\n",
    "# DoS Hulk                       231073\n",
    "# DoS Slowhttptest                 5499\n",
    "# DoS slowloris                    5796\n",
    "# FTP-Patator                      7938\n",
    "# Heartbleed                         11\n",
    "# PortScan                       158930\n",
    "# SSH-Patator                      5897\n",
    "# Web Attack � Brute Force         1507\n",
    "# Web Attack � Sql Injection         21\n",
    "# Web Attack � XSS                  652\n",
    "MergedAll.groupby(' Label').size()"
   ]
  },
  {
   "cell_type": "code",
   "execution_count": null,
   "metadata": {},
   "outputs": [],
   "source": [
    "\n",
    "MergedAll[' Label'] = MergedAll[' Label'].map({'BENIGN': 0, \n",
    "                                     'FTP-Patator':1, 'SSH-Patator':1,\n",
    "                                     'DoS Hulk':2, 'DoS GoldenEye':2,\n",
    "                                     'DoS slowloris':2, 'DoS Slowhttptest':2,\n",
    "                                     'Heartbleed':3,\n",
    "                                     'Web Attack � Brute Force':4,\n",
    "                                     'Web Attack � Sql Injection':4,\n",
    "                                     'Web Attack � XSS':4,\n",
    "                                     'Bot':5,\n",
    "                                     'DDoS':6,\n",
    "                                     'PortScan':7})"
   ]
  },
  {
   "cell_type": "code",
   "execution_count": 21,
   "metadata": {},
   "outputs": [],
   "source": [
    "MergedAll.to_csv('K:/CIC-2017-dataset/CIC-IDS-2017/MergedML_CSV/MergedML.csv', index=False)"
   ]
  },
  {
   "cell_type": "code",
   "execution_count": 44,
   "metadata": {},
   "outputs": [],
   "source": [
    "ax = MergedAll[' Label'].value_counts().plot(kind='bar', figsize=(10,7),\n",
    "                                        color=\"coral\", fontsize=13);\n",
    "ax.set_alpha(0.8)\n",
    "ax.set_title(\"Traffic Distribution on all Merged Dataframe\", fontsize=18)\n",
    "ax.set_ylabel(\"Number of Traffics\", fontsize=18);\n",
    "ax.set_yticks([100000, 200000, 300000, 400000, 500000, 600000, 700000, 800000, 900000, 100000, 110000, 120000, 130000, 140000,\n",
    "              150000, 160000, 170000, 180000, 190000, 200000, 2000000])\n",
    "\n",
    "# create a list to collect the plt.patches data\n",
    "totals = []\n",
    "\n",
    "# find the values and append to list\n",
    "for i in ax.patches:\n",
    "    totals.append(i.get_height())\n",
    "\n",
    "# set individual bar lables using above list\n",
    "total = sum(totals)\n",
    "\n",
    "# set individual bar lables using above list\n",
    "for i in ax.patches:\n",
    "    # get_x pulls left or right; get_height pushes up or down\n",
    "    ax.text(i.get_x()-.03, i.get_height()+.5, \\\n",
    "            str(round((i.get_height()/total)*100, 2))+'%', fontsize=15,\n",
    "                color='dimgrey')"
   ]
  },
  {
   "cell_type": "code",
   "execution_count": null,
   "metadata": {},
   "outputs": [],
   "source": []
  }
 ],
 "metadata": {
  "kernelspec": {
   "display_name": "Python 3",
   "language": "python",
   "name": "python3"
  },
  "language_info": {
   "codemirror_mode": {
    "name": "ipython",
    "version": 3
   },
   "file_extension": ".py",
   "mimetype": "text/x-python",
   "name": "python",
   "nbconvert_exporter": "python",
   "pygments_lexer": "ipython3",
   "version": "3.6.6"
  }
 },
 "nbformat": 4,
 "nbformat_minor": 2
}
