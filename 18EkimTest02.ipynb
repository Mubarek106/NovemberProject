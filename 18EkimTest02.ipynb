{
 "cells": [
  {
   "cell_type": "markdown",
   "metadata": {},
   "source": [
    "# Imports"
   ]
  },
  {
   "cell_type": "code",
   "execution_count": 1,
   "metadata": {},
   "outputs": [
    {
     "ename": "ImportError",
     "evalue": "cannot import name 'add_newdocs'",
     "output_type": "error",
     "traceback": [
      "\u001b[1;31m---------------------------------------------------------------------------\u001b[0m",
      "\u001b[1;31mImportError\u001b[0m                               Traceback (most recent call last)",
      "\u001b[1;32m<ipython-input-1-1e9d525225fc>\u001b[0m in \u001b[0;36m<module>\u001b[1;34m()\u001b[0m\n\u001b[0;32m      1\u001b[0m \u001b[1;31m#Basic imports\u001b[0m\u001b[1;33m\u001b[0m\u001b[1;33m\u001b[0m\u001b[0m\n\u001b[1;32m----> 2\u001b[1;33m \u001b[1;32mimport\u001b[0m \u001b[0mnumpy\u001b[0m \u001b[1;32mas\u001b[0m \u001b[0mnp\u001b[0m\u001b[1;33m\u001b[0m\u001b[0m\n\u001b[0m\u001b[0;32m      3\u001b[0m \u001b[1;32mimport\u001b[0m \u001b[0mpandas\u001b[0m \u001b[1;32mas\u001b[0m \u001b[0mpd\u001b[0m\u001b[1;33m\u001b[0m\u001b[0m\n\u001b[0;32m      4\u001b[0m \u001b[1;32mfrom\u001b[0m \u001b[0msklearn\u001b[0m \u001b[1;32mimport\u001b[0m \u001b[0mpreprocessing\u001b[0m\u001b[1;33m\u001b[0m\u001b[0m\n\u001b[0;32m      5\u001b[0m \u001b[1;33m\u001b[0m\u001b[0m\n",
      "\u001b[1;32mH:\\anacondaa\\lib\\site-packages\\numpy\\__init__.py\u001b[0m in \u001b[0;36m<module>\u001b[1;34m()\u001b[0m\n\u001b[0;32m    140\u001b[0m         \u001b[1;32mreturn\u001b[0m \u001b[0mloader\u001b[0m\u001b[1;33m(\u001b[0m\u001b[1;33m*\u001b[0m\u001b[0mpackages\u001b[0m\u001b[1;33m,\u001b[0m \u001b[1;33m**\u001b[0m\u001b[0moptions\u001b[0m\u001b[1;33m)\u001b[0m\u001b[1;33m\u001b[0m\u001b[0m\n\u001b[0;32m    141\u001b[0m \u001b[1;33m\u001b[0m\u001b[0m\n\u001b[1;32m--> 142\u001b[1;33m     \u001b[1;32mfrom\u001b[0m \u001b[1;33m.\u001b[0m \u001b[1;32mimport\u001b[0m \u001b[0madd_newdocs\u001b[0m\u001b[1;33m\u001b[0m\u001b[0m\n\u001b[0m\u001b[0;32m    143\u001b[0m     __all__ = ['add_newdocs',\n\u001b[0;32m    144\u001b[0m                \u001b[1;34m'ModuleDeprecationWarning'\u001b[0m\u001b[1;33m,\u001b[0m\u001b[1;33m\u001b[0m\u001b[0m\n",
      "\u001b[1;31mImportError\u001b[0m: cannot import name 'add_newdocs'"
     ]
    }
   ],
   "source": [
    "#Basic imports\n",
    "import numpy as np\n",
    "import pandas as pd\n",
    "from sklearn import preprocessing\n",
    "\n",
    "#sklearn imports\n",
    "from sklearn.decomposition import PCA #Principal Component Analysis\n",
    "from sklearn.manifold import TSNE #T-Distributed Stochastic Neighbor Embedding\n",
    "from sklearn.cluster import KMeans #K-Means Clustering\n",
    "from sklearn.preprocessing import StandardScaler #used for 'Feature Scaling': failed\n",
    "\n",
    "from sklearn.preprocessing import MinMaxScaler # used for feature rescaling : failed\n",
    "\n",
    "from sklearn.preprocessing import Normalizer # used for normalizing data : failed\n",
    "\n",
    "#plotly imports\n",
    "import plotly as py\n",
    "import plotly.graph_objs as go\n",
    "from plotly.offline import download_plotlyjs, init_notebook_mode, plot, iplot"
   ]
  },
  {
   "cell_type": "markdown",
   "metadata": {},
   "source": [
    "# Read the data"
   ]
  },
  {
   "cell_type": "code",
   "execution_count": 2,
   "metadata": {},
   "outputs": [
    {
     "name": "stderr",
     "output_type": "stream",
     "text": [
      "H:\\anacondaa\\lib\\site-packages\\IPython\\core\\interactiveshell.py:2728: DtypeWarning:\n",
      "\n",
      "Columns (14,15) have mixed types. Specify dtype option on import or set low_memory=False.\n",
      "\n"
     ]
    },
    {
     "name": "stdout",
     "output_type": "stream",
     "text": [
      "(445909, 79)\n"
     ]
    }
   ],
   "source": [
    "#df is our original DataFrame of Tuesday\n",
    "df = pd.read_csv(\"K:/CIC-2017-dataset/CIC-IDS-2017/MachineLearningCVE/Tuesday-WorkingHours.pcap_ISCX.csv\")\n",
    "print(df.shape)        # (445909, 79)"
   ]
  },
  {
   "cell_type": "code",
   "execution_count": 3,
   "metadata": {},
   "outputs": [
    {
     "name": "stdout",
     "output_type": "stream",
     "text": [
      "<class 'pandas.core.frame.DataFrame'>\n",
      "RangeIndex: 445909 entries, 0 to 445908\n",
      "Data columns (total 79 columns):\n",
      " Destination Port               445909 non-null int64\n",
      " Flow Duration                  445909 non-null int64\n",
      " Total Fwd Packets              445909 non-null int64\n",
      " Total Backward Packets         445909 non-null int64\n",
      "Total Length of Fwd Packets     445909 non-null int64\n",
      " Total Length of Bwd Packets    445909 non-null int64\n",
      " Fwd Packet Length Max          445909 non-null int64\n",
      " Fwd Packet Length Min          445909 non-null int64\n",
      " Fwd Packet Length Mean         445909 non-null float64\n",
      " Fwd Packet Length Std          445909 non-null float64\n",
      "Bwd Packet Length Max           445909 non-null int64\n",
      " Bwd Packet Length Min          445909 non-null int64\n",
      " Bwd Packet Length Mean         445909 non-null float64\n",
      " Bwd Packet Length Std          445909 non-null float64\n",
      "Flow Bytes/s                    445708 non-null object\n",
      " Flow Packets/s                 445909 non-null object\n",
      " Flow IAT Mean                  445909 non-null float64\n",
      " Flow IAT Std                   445909 non-null float64\n",
      " Flow IAT Max                   445909 non-null int64\n",
      " Flow IAT Min                   445909 non-null int64\n",
      "Fwd IAT Total                   445909 non-null int64\n",
      " Fwd IAT Mean                   445909 non-null float64\n",
      " Fwd IAT Std                    445909 non-null float64\n",
      " Fwd IAT Max                    445909 non-null int64\n",
      " Fwd IAT Min                    445909 non-null int64\n",
      "Bwd IAT Total                   445909 non-null int64\n",
      " Bwd IAT Mean                   445909 non-null float64\n",
      " Bwd IAT Std                    445909 non-null float64\n",
      " Bwd IAT Max                    445909 non-null int64\n",
      " Bwd IAT Min                    445909 non-null int64\n",
      "Fwd PSH Flags                   445909 non-null int64\n",
      " Bwd PSH Flags                  445909 non-null int64\n",
      " Fwd URG Flags                  445909 non-null int64\n",
      " Bwd URG Flags                  445909 non-null int64\n",
      " Fwd Header Length              445909 non-null int64\n",
      " Bwd Header Length              445909 non-null int64\n",
      "Fwd Packets/s                   445909 non-null float64\n",
      " Bwd Packets/s                  445909 non-null float64\n",
      " Min Packet Length              445909 non-null int64\n",
      " Max Packet Length              445909 non-null int64\n",
      " Packet Length Mean             445909 non-null float64\n",
      " Packet Length Std              445909 non-null float64\n",
      " Packet Length Variance         445909 non-null float64\n",
      "FIN Flag Count                  445909 non-null int64\n",
      " SYN Flag Count                 445909 non-null int64\n",
      " RST Flag Count                 445909 non-null int64\n",
      " PSH Flag Count                 445909 non-null int64\n",
      " ACK Flag Count                 445909 non-null int64\n",
      " URG Flag Count                 445909 non-null int64\n",
      " CWE Flag Count                 445909 non-null int64\n",
      " ECE Flag Count                 445909 non-null int64\n",
      " Down/Up Ratio                  445909 non-null int64\n",
      " Average Packet Size            445909 non-null float64\n",
      " Avg Fwd Segment Size           445909 non-null float64\n",
      " Avg Bwd Segment Size           445909 non-null float64\n",
      " Fwd Header Length.1            445909 non-null int64\n",
      "Fwd Avg Bytes/Bulk              445909 non-null int64\n",
      " Fwd Avg Packets/Bulk           445909 non-null int64\n",
      " Fwd Avg Bulk Rate              445909 non-null int64\n",
      " Bwd Avg Bytes/Bulk             445909 non-null int64\n",
      " Bwd Avg Packets/Bulk           445909 non-null int64\n",
      "Bwd Avg Bulk Rate               445909 non-null int64\n",
      "Subflow Fwd Packets             445909 non-null int64\n",
      " Subflow Fwd Bytes              445909 non-null int64\n",
      " Subflow Bwd Packets            445909 non-null int64\n",
      " Subflow Bwd Bytes              445909 non-null int64\n",
      "Init_Win_bytes_forward          445909 non-null int64\n",
      " Init_Win_bytes_backward        445909 non-null int64\n",
      " act_data_pkt_fwd               445909 non-null int64\n",
      " min_seg_size_forward           445909 non-null int64\n",
      "Active Mean                     445909 non-null float64\n",
      " Active Std                     445909 non-null float64\n",
      " Active Max                     445909 non-null int64\n",
      " Active Min                     445909 non-null int64\n",
      "Idle Mean                       445909 non-null float64\n",
      " Idle Std                       445909 non-null float64\n",
      " Idle Max                       445909 non-null int64\n",
      " Idle Min                       445909 non-null int64\n",
      " Label                          445909 non-null object\n",
      "dtypes: float64(22), int64(54), object(3)\n",
      "memory usage: 268.8+ MB\n"
     ]
    }
   ],
   "source": [
    "df.info()"
   ]
  },
  {
   "cell_type": "markdown",
   "metadata": {},
   "source": [
    "# Exploration/ Engineering"
   ]
  },
  {
   "cell_type": "markdown",
   "metadata": {},
   "source": [
    "First, we construct a new DataFrame, X that we can modify. X will begin as a 'copy' of the original DataFrame, df"
   ]
  },
  {
   "cell_type": "code",
   "execution_count": 4,
   "metadata": {},
   "outputs": [],
   "source": [
    "X = df.copy()"
   ]
  },
  {
   "cell_type": "markdown",
   "metadata": {},
   "source": [
    "Test if there any missing values in DataFrame. It turns out there are missing values"
   ]
  },
  {
   "cell_type": "code",
   "execution_count": 5,
   "metadata": {},
   "outputs": [
    {
     "data": {
      "text/plain": [
       " Destination Port                 0\n",
       " Flow Duration                    0\n",
       " Total Fwd Packets                0\n",
       " Total Backward Packets           0\n",
       "Total Length of Fwd Packets       0\n",
       " Total Length of Bwd Packets      0\n",
       " Fwd Packet Length Max            0\n",
       " Fwd Packet Length Min            0\n",
       " Fwd Packet Length Mean           0\n",
       " Fwd Packet Length Std            0\n",
       "Bwd Packet Length Max             0\n",
       " Bwd Packet Length Min            0\n",
       " Bwd Packet Length Mean           0\n",
       " Bwd Packet Length Std            0\n",
       "Flow Bytes/s                    201\n",
       " Flow Packets/s                   0\n",
       " Flow IAT Mean                    0\n",
       " Flow IAT Std                     0\n",
       " Flow IAT Max                     0\n",
       " Flow IAT Min                     0\n",
       "Fwd IAT Total                     0\n",
       " Fwd IAT Mean                     0\n",
       " Fwd IAT Std                      0\n",
       " Fwd IAT Max                      0\n",
       " Fwd IAT Min                      0\n",
       "Bwd IAT Total                     0\n",
       " Bwd IAT Mean                     0\n",
       " Bwd IAT Std                      0\n",
       " Bwd IAT Max                      0\n",
       " Bwd IAT Min                      0\n",
       "                               ... \n",
       " CWE Flag Count                   0\n",
       " ECE Flag Count                   0\n",
       " Down/Up Ratio                    0\n",
       " Average Packet Size              0\n",
       " Avg Fwd Segment Size             0\n",
       " Avg Bwd Segment Size             0\n",
       " Fwd Header Length.1              0\n",
       "Fwd Avg Bytes/Bulk                0\n",
       " Fwd Avg Packets/Bulk             0\n",
       " Fwd Avg Bulk Rate                0\n",
       " Bwd Avg Bytes/Bulk               0\n",
       " Bwd Avg Packets/Bulk             0\n",
       "Bwd Avg Bulk Rate                 0\n",
       "Subflow Fwd Packets               0\n",
       " Subflow Fwd Bytes                0\n",
       " Subflow Bwd Packets              0\n",
       " Subflow Bwd Bytes                0\n",
       "Init_Win_bytes_forward            0\n",
       " Init_Win_bytes_backward          0\n",
       " act_data_pkt_fwd                 0\n",
       " min_seg_size_forward             0\n",
       "Active Mean                       0\n",
       " Active Std                       0\n",
       " Active Max                       0\n",
       " Active Min                       0\n",
       "Idle Mean                         0\n",
       " Idle Std                         0\n",
       " Idle Max                         0\n",
       " Idle Min                         0\n",
       " Label                            0\n",
       "Length: 79, dtype: int64"
      ]
     },
     "execution_count": 5,
     "metadata": {},
     "output_type": "execute_result"
    }
   ],
   "source": [
    "X.isnull().sum()"
   ]
  },
  {
   "cell_type": "code",
   "execution_count": 6,
   "metadata": {},
   "outputs": [
    {
     "data": {
      "text/plain": [
       "True"
      ]
     },
     "execution_count": 6,
     "metadata": {},
     "output_type": "execute_result"
    }
   ],
   "source": [
    "X.isnull().values.any()"
   ]
  },
  {
   "cell_type": "code",
   "execution_count": 7,
   "metadata": {},
   "outputs": [
    {
     "data": {
      "text/html": [
       "<div>\n",
       "<style scoped>\n",
       "    .dataframe tbody tr th:only-of-type {\n",
       "        vertical-align: middle;\n",
       "    }\n",
       "\n",
       "    .dataframe tbody tr th {\n",
       "        vertical-align: top;\n",
       "    }\n",
       "\n",
       "    .dataframe thead th {\n",
       "        text-align: right;\n",
       "    }\n",
       "</style>\n",
       "<table border=\"1\" class=\"dataframe\">\n",
       "  <thead>\n",
       "    <tr style=\"text-align: right;\">\n",
       "      <th></th>\n",
       "      <th>Destination Port</th>\n",
       "      <th>Flow Duration</th>\n",
       "      <th>Total Fwd Packets</th>\n",
       "      <th>Total Backward Packets</th>\n",
       "      <th>Total Length of Fwd Packets</th>\n",
       "      <th>Total Length of Bwd Packets</th>\n",
       "      <th>Fwd Packet Length Max</th>\n",
       "      <th>Fwd Packet Length Min</th>\n",
       "      <th>Fwd Packet Length Mean</th>\n",
       "      <th>Fwd Packet Length Std</th>\n",
       "      <th>...</th>\n",
       "      <th>min_seg_size_forward</th>\n",
       "      <th>Active Mean</th>\n",
       "      <th>Active Std</th>\n",
       "      <th>Active Max</th>\n",
       "      <th>Active Min</th>\n",
       "      <th>Idle Mean</th>\n",
       "      <th>Idle Std</th>\n",
       "      <th>Idle Max</th>\n",
       "      <th>Idle Min</th>\n",
       "      <th>Label</th>\n",
       "    </tr>\n",
       "  </thead>\n",
       "  <tbody>\n",
       "    <tr>\n",
       "      <th>0</th>\n",
       "      <td>88</td>\n",
       "      <td>640</td>\n",
       "      <td>7</td>\n",
       "      <td>4</td>\n",
       "      <td>440</td>\n",
       "      <td>358</td>\n",
       "      <td>220</td>\n",
       "      <td>0</td>\n",
       "      <td>62.857143</td>\n",
       "      <td>107.349008</td>\n",
       "      <td>...</td>\n",
       "      <td>20</td>\n",
       "      <td>0.0</td>\n",
       "      <td>0.0</td>\n",
       "      <td>0</td>\n",
       "      <td>0</td>\n",
       "      <td>0.0</td>\n",
       "      <td>0.0</td>\n",
       "      <td>0</td>\n",
       "      <td>0</td>\n",
       "      <td>BENIGN</td>\n",
       "    </tr>\n",
       "    <tr>\n",
       "      <th>1</th>\n",
       "      <td>88</td>\n",
       "      <td>900</td>\n",
       "      <td>9</td>\n",
       "      <td>4</td>\n",
       "      <td>600</td>\n",
       "      <td>2944</td>\n",
       "      <td>300</td>\n",
       "      <td>0</td>\n",
       "      <td>66.666667</td>\n",
       "      <td>132.287566</td>\n",
       "      <td>...</td>\n",
       "      <td>20</td>\n",
       "      <td>0.0</td>\n",
       "      <td>0.0</td>\n",
       "      <td>0</td>\n",
       "      <td>0</td>\n",
       "      <td>0.0</td>\n",
       "      <td>0.0</td>\n",
       "      <td>0</td>\n",
       "      <td>0</td>\n",
       "      <td>BENIGN</td>\n",
       "    </tr>\n",
       "    <tr>\n",
       "      <th>2</th>\n",
       "      <td>88</td>\n",
       "      <td>1205</td>\n",
       "      <td>7</td>\n",
       "      <td>4</td>\n",
       "      <td>2776</td>\n",
       "      <td>2830</td>\n",
       "      <td>1388</td>\n",
       "      <td>0</td>\n",
       "      <td>396.571429</td>\n",
       "      <td>677.274651</td>\n",
       "      <td>...</td>\n",
       "      <td>20</td>\n",
       "      <td>0.0</td>\n",
       "      <td>0.0</td>\n",
       "      <td>0</td>\n",
       "      <td>0</td>\n",
       "      <td>0.0</td>\n",
       "      <td>0.0</td>\n",
       "      <td>0</td>\n",
       "      <td>0</td>\n",
       "      <td>BENIGN</td>\n",
       "    </tr>\n",
       "    <tr>\n",
       "      <th>3</th>\n",
       "      <td>88</td>\n",
       "      <td>511</td>\n",
       "      <td>7</td>\n",
       "      <td>4</td>\n",
       "      <td>452</td>\n",
       "      <td>370</td>\n",
       "      <td>226</td>\n",
       "      <td>0</td>\n",
       "      <td>64.571429</td>\n",
       "      <td>110.276708</td>\n",
       "      <td>...</td>\n",
       "      <td>20</td>\n",
       "      <td>0.0</td>\n",
       "      <td>0.0</td>\n",
       "      <td>0</td>\n",
       "      <td>0</td>\n",
       "      <td>0.0</td>\n",
       "      <td>0.0</td>\n",
       "      <td>0</td>\n",
       "      <td>0</td>\n",
       "      <td>BENIGN</td>\n",
       "    </tr>\n",
       "    <tr>\n",
       "      <th>4</th>\n",
       "      <td>88</td>\n",
       "      <td>773</td>\n",
       "      <td>9</td>\n",
       "      <td>4</td>\n",
       "      <td>612</td>\n",
       "      <td>2944</td>\n",
       "      <td>306</td>\n",
       "      <td>0</td>\n",
       "      <td>68.000000</td>\n",
       "      <td>134.933317</td>\n",
       "      <td>...</td>\n",
       "      <td>20</td>\n",
       "      <td>0.0</td>\n",
       "      <td>0.0</td>\n",
       "      <td>0</td>\n",
       "      <td>0</td>\n",
       "      <td>0.0</td>\n",
       "      <td>0.0</td>\n",
       "      <td>0</td>\n",
       "      <td>0</td>\n",
       "      <td>BENIGN</td>\n",
       "    </tr>\n",
       "  </tbody>\n",
       "</table>\n",
       "<p>5 rows × 79 columns</p>\n",
       "</div>"
      ],
      "text/plain": [
       "    Destination Port   Flow Duration   Total Fwd Packets  \\\n",
       "0                 88             640                   7   \n",
       "1                 88             900                   9   \n",
       "2                 88            1205                   7   \n",
       "3                 88             511                   7   \n",
       "4                 88             773                   9   \n",
       "\n",
       "    Total Backward Packets  Total Length of Fwd Packets  \\\n",
       "0                        4                          440   \n",
       "1                        4                          600   \n",
       "2                        4                         2776   \n",
       "3                        4                          452   \n",
       "4                        4                          612   \n",
       "\n",
       "    Total Length of Bwd Packets   Fwd Packet Length Max  \\\n",
       "0                           358                     220   \n",
       "1                          2944                     300   \n",
       "2                          2830                    1388   \n",
       "3                           370                     226   \n",
       "4                          2944                     306   \n",
       "\n",
       "    Fwd Packet Length Min   Fwd Packet Length Mean   Fwd Packet Length Std  \\\n",
       "0                       0                62.857143              107.349008   \n",
       "1                       0                66.666667              132.287566   \n",
       "2                       0               396.571429              677.274651   \n",
       "3                       0                64.571429              110.276708   \n",
       "4                       0                68.000000              134.933317   \n",
       "\n",
       "    ...     min_seg_size_forward  Active Mean   Active Std   Active Max  \\\n",
       "0   ...                       20          0.0          0.0            0   \n",
       "1   ...                       20          0.0          0.0            0   \n",
       "2   ...                       20          0.0          0.0            0   \n",
       "3   ...                       20          0.0          0.0            0   \n",
       "4   ...                       20          0.0          0.0            0   \n",
       "\n",
       "   Active Min Idle Mean   Idle Std   Idle Max   Idle Min   Label  \n",
       "0           0       0.0        0.0          0          0  BENIGN  \n",
       "1           0       0.0        0.0          0          0  BENIGN  \n",
       "2           0       0.0        0.0          0          0  BENIGN  \n",
       "3           0       0.0        0.0          0          0  BENIGN  \n",
       "4           0       0.0        0.0          0          0  BENIGN  \n",
       "\n",
       "[5 rows x 79 columns]"
      ]
     },
     "execution_count": 7,
     "metadata": {},
     "output_type": "execute_result"
    }
   ],
   "source": [
    "X.head()"
   ]
  },
  {
   "cell_type": "code",
   "execution_count": 8,
   "metadata": {},
   "outputs": [
    {
     "name": "stdout",
     "output_type": "stream",
     "text": [
      "\n",
      " The types of all traffics are ['BENIGN', 'FTP-Patator', 'SSH-Patator']\n"
     ]
    }
   ],
   "source": [
    "listLabel = list(X[\" Label\"].drop_duplicates().values)\n",
    "print('\\n The types of all traffics are {}'.format(listLabel))"
   ]
  },
  {
   "cell_type": "code",
   "execution_count": 9,
   "metadata": {},
   "outputs": [
    {
     "data": {
      "text/plain": [
       "array(['BENIGN', 'FTP-Patator', 'SSH-Patator'], dtype=object)"
      ]
     },
     "execution_count": 9,
     "metadata": {},
     "output_type": "execute_result"
    }
   ],
   "source": [
    "X[\" Label\"].unique()"
   ]
  },
  {
   "cell_type": "code",
   "execution_count": 10,
   "metadata": {},
   "outputs": [
    {
     "name": "stdout",
     "output_type": "stream",
     "text": [
      "\n",
      " The number of Benign traffics = 432074\n",
      "\n",
      " The number of FTP-Patator traffics = 7938\n",
      "\n",
      " The number of SSH-Patator traffics = 5897\n"
     ]
    }
   ],
   "source": [
    "benignTr = X.loc[X[\" Label\"] == 'BENIGN']\n",
    "ftpTr = X.loc[X[\" Label\"] == 'FTP-Patator']\n",
    "sshTr = X.loc[X[\" Label\"] == 'SSH-Patator']\n",
    "\n",
    "\n",
    "print ('\\n The number of Benign traffics = {}'.format(len(benignTr))) \n",
    "\n",
    "print ('\\n The number of FTP-Patator traffics = {}'.\\\n",
    "       format(len(ftpTr))) # \n",
    "print ('\\n The number of SSH-Patator traffics = {}'.\\\n",
    "       format(len(sshTr))) # \n"
   ]
  },
  {
   "cell_type": "markdown",
   "metadata": {},
   "source": [
    "# Data Cleaning"
   ]
  },
  {
   "cell_type": "code",
   "execution_count": 11,
   "metadata": {},
   "outputs": [],
   "source": [
    "X = df.drop(\" Label\", axis=1)    #(445909, 78)\n",
    "y = df[\" Label\"]                #(445909,)"
   ]
  },
  {
   "cell_type": "markdown",
   "metadata": {},
   "source": [
    "# Clustering"
   ]
  },
  {
   "cell_type": "markdown",
   "metadata": {},
   "source": [
    "Now, before we get into clustering our data, we just need to do one more thing: feature-scale our numerical variables.\n",
    "\n",
    "We need to do this because, while each of our categorical variables hold values of either 0 or 1, some of our numerical variables hold values like 2596 and 2785. If we were to leave our data like this, then K-Means Clustering would not give us such a nice result, since K-Means Clustering measures the euclidean distance between data-points. This means that, if we were to leave our numeical variables un-scaled, then most of the distance measured between points would be attributed to the larger numerical variables, rather than any of the categorical variables.\n",
    "\n",
    "To fix this problem we will scale all of our numerical variables through the use of sklearn's StandardScaler tool. This tool allows us to scale each numerical variable such that each numerical variable's mean becomes 0, and it's variance becomes 1. This is a good way to make sure that all of the numerical variables are on roughly the same scale that the categorical (binary) variables are on.\n",
    "\n",
    "But, to make sure we scale only our numerical variables -- and not our categorical variables --, we'll split our current DataFrame, X, into two other DataFrames: numer and cater; feature-scale. numer, then recombine the two DataFrames together again into a DataFrame that is suitable for clustering."
   ]
  },
  {
   "cell_type": "code",
   "execution_count": 12,
   "metadata": {},
   "outputs": [],
   "source": [
    "#numer is the DataFrame that holds all of X's numerical variables\n",
    "numer = X[[\" Destination Port\",\n",
    "           \" Flow Duration\",\n",
    "           \" Total Fwd Packets\",\n",
    "           \" Total Backward Packets\",\n",
    "           \"Total Length of Fwd Packets\",\n",
    "           \" Total Length of Bwd Packets\",\n",
    "           \" Down/Up Ratio\",\n",
    "           \" Fwd Packet Length Max\",\n",
    "           \" Fwd Packet Length Min\",\n",
    "           \" Fwd Packet Length Mean\",\n",
    "           \" Fwd Packet Length Std\",\n",
    "           \"Bwd Packet Length Max\",\n",
    "           \" Bwd Packet Length Min\",\n",
    "           \" Bwd Packet Length Mean\",\n",
    "           \" Bwd Packet Length Std\",\n",
    "           \"Flow Bytes/s\",\n",
    "           \" Flow Packets/s\",\n",
    "           \" Flow IAT Mean\",\n",
    "           \" Flow IAT Std\",\n",
    "           \" Flow IAT Max\",\n",
    "           \" Flow IAT Min\", \n",
    "           \"Fwd IAT Total\",\n",
    "           \" Fwd IAT Mean\",\n",
    "           \" Fwd IAT Std\",\n",
    "           \" Fwd IAT Max\", \n",
    "           \" Fwd IAT Min\",\n",
    "           \"Bwd IAT Total\", \n",
    "           \" Bwd IAT Mean\",\n",
    "           \" Bwd IAT Std\", \n",
    "           \" Bwd IAT Max\", \n",
    "           \" Bwd IAT Min\", \n",
    "           \" Fwd Header Length\",\n",
    "           \" Bwd Header Length\",\n",
    "           \"Fwd Packets/s\",\n",
    "           \" Bwd Packets/s\", \n",
    "           \" Min Packet Length\",\n",
    "           \" Max Packet Length\",\n",
    "           \" Packet Length Mean\",\n",
    "           \" Packet Length Std\",\n",
    "           \" Packet Length Variance\",\n",
    "           \" Avg Bwd Segment Size\",\n",
    "           \" Average Packet Size\",\n",
    "           \" Avg Fwd Segment Size\",\n",
    "           \" Fwd Header Length\",\n",
    "           \"Subflow Fwd Packets\", \n",
    "           \" Subflow Fwd Bytes\", \n",
    "           \" Subflow Bwd Packets\",\n",
    "           \" Subflow Bwd Bytes\",\n",
    "           \"Init_Win_bytes_forward\", \n",
    "           \" Init_Win_bytes_backward\", \n",
    "           \" act_data_pkt_fwd\",\n",
    "           \" min_seg_size_forward\",\n",
    "           \"Active Mean\",\n",
    "           \" Active Std\",\n",
    "           \" Active Max\",\n",
    "           \" Active Min\",\n",
    "           \"Idle Mean\",\n",
    "           \" Idle Std\",\n",
    "           \" Idle Max\",\n",
    "           \" Idle Min\"\n",
    "\n",
    " ]]"
   ]
  },
  {
   "cell_type": "code",
   "execution_count": 13,
   "metadata": {},
   "outputs": [
    {
     "data": {
      "text/plain": [
       "(445909, 60)"
      ]
     },
     "execution_count": 13,
     "metadata": {},
     "output_type": "execute_result"
    }
   ],
   "source": [
    "numer.shape     #  (445909,60)"
   ]
  },
  {
   "cell_type": "code",
   "execution_count": 14,
   "metadata": {},
   "outputs": [],
   "source": [
    "#cater is the DataFrame that holds all of X's categorical variables\n",
    "cater = X[[\"Fwd PSH Flags\",\n",
    "           \" Bwd PSH Flags\",  # 0\n",
    "           \" Fwd URG Flags\",  # 0\n",
    "           \" Bwd URG Flags\",  # 0\n",
    "           \"FIN Flag Count\", \n",
    "           \" SYN Flag Count\",\n",
    "           \" RST Flag Count\",\n",
    "           \" PSH Flag Count\",\n",
    "           \" ACK Flag Count\",\n",
    "           \" URG Flag Count\",\n",
    "           \" CWE Flag Count\",  # 0\n",
    "           \" ECE Flag Count\",\n",
    "           \"Fwd Avg Bytes/Bulk\",  # 0\n",
    "           \" Fwd Avg Packets/Bulk\", # 0\n",
    "           \" Fwd Avg Bulk Rate\",  # 0\n",
    "           \" Bwd Avg Bytes/Bulk\",  # 0\n",
    "           \" Bwd Avg Packets/Bulk\", # 0\n",
    "           \"Bwd Avg Bulk Rate\"]]  # 0"
   ]
  },
  {
   "cell_type": "code",
   "execution_count": 15,
   "metadata": {},
   "outputs": [
    {
     "data": {
      "text/plain": [
       "(445909, 18)"
      ]
     },
     "execution_count": 15,
     "metadata": {},
     "output_type": "execute_result"
    }
   ],
   "source": [
    "cater.shape    # ((445909, 18))"
   ]
  },
  {
   "cell_type": "code",
   "execution_count": 16,
   "metadata": {},
   "outputs": [
    {
     "name": "stdout",
     "output_type": "stream",
     "text": [
      "\n",
      " The types of all traffics are [0]\n"
     ]
    }
   ],
   "source": [
    "listLabel = list(cater[\"Bwd Avg Bulk Rate\"].drop_duplicates().values)\n",
    "print('\\n The types of all traffics are {}'.format(listLabel))"
   ]
  },
  {
   "cell_type": "markdown",
   "metadata": {},
   "source": [
    "So we can delete the redundant feature columns whose values are always zero"
   ]
  },
  {
   "cell_type": "code",
   "execution_count": 17,
   "metadata": {},
   "outputs": [],
   "source": [
    "cater = cater.drop([\" Bwd PSH Flags\",  # 0\n",
    "           \" Fwd URG Flags\",  # 0\n",
    "           \" Bwd URG Flags\",\n",
    "           \" CWE Flag Count\",\n",
    "           \"Fwd Avg Bytes/Bulk\",  # 0\n",
    "           \" Fwd Avg Packets/Bulk\", # 0\n",
    "           \" Fwd Avg Bulk Rate\",  # 0\n",
    "           \" Bwd Avg Bytes/Bulk\",  # 0\n",
    "           \" Bwd Avg Packets/Bulk\", # 0\n",
    "           \"Bwd Avg Bulk Rate\"], axis=1)"
   ]
  },
  {
   "cell_type": "code",
   "execution_count": 18,
   "metadata": {},
   "outputs": [
    {
     "data": {
      "text/plain": [
       "(445909, 8)"
      ]
     },
     "execution_count": 18,
     "metadata": {},
     "output_type": "execute_result"
    }
   ],
   "source": [
    "cater.shape     # (445909, 8)"
   ]
  },
  {
   "cell_type": "code",
   "execution_count": 19,
   "metadata": {},
   "outputs": [
    {
     "data": {
      "text/html": [
       "<div>\n",
       "<style scoped>\n",
       "    .dataframe tbody tr th:only-of-type {\n",
       "        vertical-align: middle;\n",
       "    }\n",
       "\n",
       "    .dataframe tbody tr th {\n",
       "        vertical-align: top;\n",
       "    }\n",
       "\n",
       "    .dataframe thead th {\n",
       "        text-align: right;\n",
       "    }\n",
       "</style>\n",
       "<table border=\"1\" class=\"dataframe\">\n",
       "  <thead>\n",
       "    <tr style=\"text-align: right;\">\n",
       "      <th></th>\n",
       "      <th>Destination Port</th>\n",
       "      <th>Flow Duration</th>\n",
       "      <th>Total Fwd Packets</th>\n",
       "      <th>Total Backward Packets</th>\n",
       "      <th>Total Length of Fwd Packets</th>\n",
       "      <th>Total Length of Bwd Packets</th>\n",
       "      <th>Down/Up Ratio</th>\n",
       "      <th>Fwd Packet Length Max</th>\n",
       "      <th>Fwd Packet Length Min</th>\n",
       "      <th>Fwd Packet Length Mean</th>\n",
       "      <th>...</th>\n",
       "      <th>act_data_pkt_fwd</th>\n",
       "      <th>min_seg_size_forward</th>\n",
       "      <th>Active Mean</th>\n",
       "      <th>Active Std</th>\n",
       "      <th>Active Max</th>\n",
       "      <th>Active Min</th>\n",
       "      <th>Idle Mean</th>\n",
       "      <th>Idle Std</th>\n",
       "      <th>Idle Max</th>\n",
       "      <th>Idle Min</th>\n",
       "    </tr>\n",
       "  </thead>\n",
       "  <tbody>\n",
       "    <tr>\n",
       "      <th>0</th>\n",
       "      <td>88</td>\n",
       "      <td>640</td>\n",
       "      <td>7</td>\n",
       "      <td>4</td>\n",
       "      <td>440</td>\n",
       "      <td>358</td>\n",
       "      <td>0</td>\n",
       "      <td>220</td>\n",
       "      <td>0</td>\n",
       "      <td>62.857143</td>\n",
       "      <td>...</td>\n",
       "      <td>2</td>\n",
       "      <td>20</td>\n",
       "      <td>0.0</td>\n",
       "      <td>0.0</td>\n",
       "      <td>0</td>\n",
       "      <td>0</td>\n",
       "      <td>0.0</td>\n",
       "      <td>0.0</td>\n",
       "      <td>0</td>\n",
       "      <td>0</td>\n",
       "    </tr>\n",
       "    <tr>\n",
       "      <th>1</th>\n",
       "      <td>88</td>\n",
       "      <td>900</td>\n",
       "      <td>9</td>\n",
       "      <td>4</td>\n",
       "      <td>600</td>\n",
       "      <td>2944</td>\n",
       "      <td>0</td>\n",
       "      <td>300</td>\n",
       "      <td>0</td>\n",
       "      <td>66.666667</td>\n",
       "      <td>...</td>\n",
       "      <td>2</td>\n",
       "      <td>20</td>\n",
       "      <td>0.0</td>\n",
       "      <td>0.0</td>\n",
       "      <td>0</td>\n",
       "      <td>0</td>\n",
       "      <td>0.0</td>\n",
       "      <td>0.0</td>\n",
       "      <td>0</td>\n",
       "      <td>0</td>\n",
       "    </tr>\n",
       "    <tr>\n",
       "      <th>2</th>\n",
       "      <td>88</td>\n",
       "      <td>1205</td>\n",
       "      <td>7</td>\n",
       "      <td>4</td>\n",
       "      <td>2776</td>\n",
       "      <td>2830</td>\n",
       "      <td>0</td>\n",
       "      <td>1388</td>\n",
       "      <td>0</td>\n",
       "      <td>396.571429</td>\n",
       "      <td>...</td>\n",
       "      <td>2</td>\n",
       "      <td>20</td>\n",
       "      <td>0.0</td>\n",
       "      <td>0.0</td>\n",
       "      <td>0</td>\n",
       "      <td>0</td>\n",
       "      <td>0.0</td>\n",
       "      <td>0.0</td>\n",
       "      <td>0</td>\n",
       "      <td>0</td>\n",
       "    </tr>\n",
       "    <tr>\n",
       "      <th>3</th>\n",
       "      <td>88</td>\n",
       "      <td>511</td>\n",
       "      <td>7</td>\n",
       "      <td>4</td>\n",
       "      <td>452</td>\n",
       "      <td>370</td>\n",
       "      <td>0</td>\n",
       "      <td>226</td>\n",
       "      <td>0</td>\n",
       "      <td>64.571429</td>\n",
       "      <td>...</td>\n",
       "      <td>2</td>\n",
       "      <td>20</td>\n",
       "      <td>0.0</td>\n",
       "      <td>0.0</td>\n",
       "      <td>0</td>\n",
       "      <td>0</td>\n",
       "      <td>0.0</td>\n",
       "      <td>0.0</td>\n",
       "      <td>0</td>\n",
       "      <td>0</td>\n",
       "    </tr>\n",
       "    <tr>\n",
       "      <th>4</th>\n",
       "      <td>88</td>\n",
       "      <td>773</td>\n",
       "      <td>9</td>\n",
       "      <td>4</td>\n",
       "      <td>612</td>\n",
       "      <td>2944</td>\n",
       "      <td>0</td>\n",
       "      <td>306</td>\n",
       "      <td>0</td>\n",
       "      <td>68.000000</td>\n",
       "      <td>...</td>\n",
       "      <td>2</td>\n",
       "      <td>20</td>\n",
       "      <td>0.0</td>\n",
       "      <td>0.0</td>\n",
       "      <td>0</td>\n",
       "      <td>0</td>\n",
       "      <td>0.0</td>\n",
       "      <td>0.0</td>\n",
       "      <td>0</td>\n",
       "      <td>0</td>\n",
       "    </tr>\n",
       "  </tbody>\n",
       "</table>\n",
       "<p>5 rows × 60 columns</p>\n",
       "</div>"
      ],
      "text/plain": [
       "    Destination Port   Flow Duration   Total Fwd Packets  \\\n",
       "0                 88             640                   7   \n",
       "1                 88             900                   9   \n",
       "2                 88            1205                   7   \n",
       "3                 88             511                   7   \n",
       "4                 88             773                   9   \n",
       "\n",
       "    Total Backward Packets  Total Length of Fwd Packets  \\\n",
       "0                        4                          440   \n",
       "1                        4                          600   \n",
       "2                        4                         2776   \n",
       "3                        4                          452   \n",
       "4                        4                          612   \n",
       "\n",
       "    Total Length of Bwd Packets   Down/Up Ratio   Fwd Packet Length Max  \\\n",
       "0                           358               0                     220   \n",
       "1                          2944               0                     300   \n",
       "2                          2830               0                    1388   \n",
       "3                           370               0                     226   \n",
       "4                          2944               0                     306   \n",
       "\n",
       "    Fwd Packet Length Min   Fwd Packet Length Mean    ...      \\\n",
       "0                       0                62.857143    ...       \n",
       "1                       0                66.666667    ...       \n",
       "2                       0               396.571429    ...       \n",
       "3                       0                64.571429    ...       \n",
       "4                       0                68.000000    ...       \n",
       "\n",
       "    act_data_pkt_fwd   min_seg_size_forward  Active Mean   Active Std  \\\n",
       "0                  2                     20          0.0          0.0   \n",
       "1                  2                     20          0.0          0.0   \n",
       "2                  2                     20          0.0          0.0   \n",
       "3                  2                     20          0.0          0.0   \n",
       "4                  2                     20          0.0          0.0   \n",
       "\n",
       "    Active Max  Active Min Idle Mean   Idle Std   Idle Max   Idle Min  \n",
       "0            0           0       0.0        0.0          0          0  \n",
       "1            0           0       0.0        0.0          0          0  \n",
       "2            0           0       0.0        0.0          0          0  \n",
       "3            0           0       0.0        0.0          0          0  \n",
       "4            0           0       0.0        0.0          0          0  \n",
       "\n",
       "[5 rows x 60 columns]"
      ]
     },
     "execution_count": 19,
     "metadata": {},
     "output_type": "execute_result"
    }
   ],
   "source": [
    "numer.head()"
   ]
  },
  {
   "cell_type": "code",
   "execution_count": 20,
   "metadata": {},
   "outputs": [
    {
     "data": {
      "text/html": [
       "<div>\n",
       "<style scoped>\n",
       "    .dataframe tbody tr th:only-of-type {\n",
       "        vertical-align: middle;\n",
       "    }\n",
       "\n",
       "    .dataframe tbody tr th {\n",
       "        vertical-align: top;\n",
       "    }\n",
       "\n",
       "    .dataframe thead th {\n",
       "        text-align: right;\n",
       "    }\n",
       "</style>\n",
       "<table border=\"1\" class=\"dataframe\">\n",
       "  <thead>\n",
       "    <tr style=\"text-align: right;\">\n",
       "      <th></th>\n",
       "      <th>Fwd PSH Flags</th>\n",
       "      <th>FIN Flag Count</th>\n",
       "      <th>SYN Flag Count</th>\n",
       "      <th>RST Flag Count</th>\n",
       "      <th>PSH Flag Count</th>\n",
       "      <th>ACK Flag Count</th>\n",
       "      <th>URG Flag Count</th>\n",
       "      <th>ECE Flag Count</th>\n",
       "    </tr>\n",
       "  </thead>\n",
       "  <tbody>\n",
       "    <tr>\n",
       "      <th>0</th>\n",
       "      <td>0</td>\n",
       "      <td>0</td>\n",
       "      <td>0</td>\n",
       "      <td>0</td>\n",
       "      <td>1</td>\n",
       "      <td>0</td>\n",
       "      <td>0</td>\n",
       "      <td>0</td>\n",
       "    </tr>\n",
       "    <tr>\n",
       "      <th>1</th>\n",
       "      <td>0</td>\n",
       "      <td>0</td>\n",
       "      <td>0</td>\n",
       "      <td>0</td>\n",
       "      <td>1</td>\n",
       "      <td>0</td>\n",
       "      <td>0</td>\n",
       "      <td>0</td>\n",
       "    </tr>\n",
       "    <tr>\n",
       "      <th>2</th>\n",
       "      <td>0</td>\n",
       "      <td>0</td>\n",
       "      <td>0</td>\n",
       "      <td>0</td>\n",
       "      <td>1</td>\n",
       "      <td>0</td>\n",
       "      <td>0</td>\n",
       "      <td>0</td>\n",
       "    </tr>\n",
       "    <tr>\n",
       "      <th>3</th>\n",
       "      <td>0</td>\n",
       "      <td>0</td>\n",
       "      <td>0</td>\n",
       "      <td>0</td>\n",
       "      <td>1</td>\n",
       "      <td>0</td>\n",
       "      <td>0</td>\n",
       "      <td>0</td>\n",
       "    </tr>\n",
       "    <tr>\n",
       "      <th>4</th>\n",
       "      <td>0</td>\n",
       "      <td>0</td>\n",
       "      <td>0</td>\n",
       "      <td>0</td>\n",
       "      <td>1</td>\n",
       "      <td>0</td>\n",
       "      <td>0</td>\n",
       "      <td>0</td>\n",
       "    </tr>\n",
       "  </tbody>\n",
       "</table>\n",
       "</div>"
      ],
      "text/plain": [
       "   Fwd PSH Flags  FIN Flag Count   SYN Flag Count   RST Flag Count  \\\n",
       "0              0               0                0                0   \n",
       "1              0               0                0                0   \n",
       "2              0               0                0                0   \n",
       "3              0               0                0                0   \n",
       "4              0               0                0                0   \n",
       "\n",
       "    PSH Flag Count   ACK Flag Count   URG Flag Count   ECE Flag Count  \n",
       "0                1                0                0                0  \n",
       "1                1                0                0                0  \n",
       "2                1                0                0                0  \n",
       "3                1                0                0                0  \n",
       "4                1                0                0                0  "
      ]
     },
     "execution_count": 20,
     "metadata": {},
     "output_type": "execute_result"
    }
   ],
   "source": [
    "cater.head()"
   ]
  },
  {
   "cell_type": "markdown",
   "metadata": {},
   "source": [
    "Now that we have our separate numerical DataFrame, it's time to feature-scale it"
   ]
  },
  {
   "cell_type": "code",
   "execution_count": 21,
   "metadata": {},
   "outputs": [],
   "source": [
    "#Initialize our scaler\n",
    "#scaler = StandardScaler()"
   ]
  },
  {
   "cell_type": "code",
   "execution_count": 22,
   "metadata": {},
   "outputs": [],
   "source": [
    "#Scale each column in numer: failed\n",
    "#numer[' Destination Port'] = pd.DataFrame(scaler.fit_transform(numer[' Destination Port']))\n",
    "# or numer = pd.DataFrame(scaler.fit_transform(numer))"
   ]
  },
  {
   "cell_type": "code",
   "execution_count": 23,
   "metadata": {},
   "outputs": [],
   "source": [
    "numer = numer.rename(columns={\"Flow Bytes/s\":\"Flow Bytes\", \" Flow Packets/s\":\"Flow Packets\", \"Fwd Packets/s\":\"Fwd Packets\", \" Bwd Packets/s\":\"Bwd Packets\"})\n"
   ]
  },
  {
   "cell_type": "code",
   "execution_count": 25,
   "metadata": {},
   "outputs": [
    {
     "ename": "ValueError",
     "evalue": "Input contains NaN, infinity or a value too large for dtype('float64').",
     "output_type": "error",
     "traceback": [
      "\u001b[1;31m---------------------------------------------------------------------------\u001b[0m",
      "\u001b[1;31mValueError\u001b[0m                                Traceback (most recent call last)",
      "\u001b[1;32m<ipython-input-25-c52b389490bb>\u001b[0m in \u001b[0;36m<module>\u001b[1;34m()\u001b[0m\n\u001b[1;32m----> 1\u001b[1;33m \u001b[0mnumer\u001b[0m\u001b[1;33m[\u001b[0m\u001b[1;34m\"Flow Bytes\"\u001b[0m\u001b[1;33m]\u001b[0m \u001b[1;33m=\u001b[0m \u001b[0mpreprocessing\u001b[0m\u001b[1;33m.\u001b[0m\u001b[0mscale\u001b[0m\u001b[1;33m(\u001b[0m\u001b[0mnumer\u001b[0m\u001b[1;33m[\u001b[0m\u001b[1;34m\"Flow Bytes\"\u001b[0m\u001b[1;33m]\u001b[0m\u001b[1;33m)\u001b[0m\u001b[1;33m\u001b[0m\u001b[0m\n\u001b[0m",
      "\u001b[1;32mH:\\anacondaa\\lib\\site-packages\\sklearn\\preprocessing\\data.py\u001b[0m in \u001b[0;36mscale\u001b[1;34m(X, axis, with_mean, with_std, copy)\u001b[0m\n\u001b[0;32m    131\u001b[0m     X = check_array(X, accept_sparse='csc', copy=copy, ensure_2d=False,\n\u001b[0;32m    132\u001b[0m                     \u001b[0mwarn_on_dtype\u001b[0m\u001b[1;33m=\u001b[0m\u001b[1;32mTrue\u001b[0m\u001b[1;33m,\u001b[0m \u001b[0mestimator\u001b[0m\u001b[1;33m=\u001b[0m\u001b[1;34m'the scale function'\u001b[0m\u001b[1;33m,\u001b[0m\u001b[1;33m\u001b[0m\u001b[0m\n\u001b[1;32m--> 133\u001b[1;33m                     dtype=FLOAT_DTYPES)\n\u001b[0m\u001b[0;32m    134\u001b[0m     \u001b[1;32mif\u001b[0m \u001b[0msparse\u001b[0m\u001b[1;33m.\u001b[0m\u001b[0missparse\u001b[0m\u001b[1;33m(\u001b[0m\u001b[0mX\u001b[0m\u001b[1;33m)\u001b[0m\u001b[1;33m:\u001b[0m\u001b[1;33m\u001b[0m\u001b[0m\n\u001b[0;32m    135\u001b[0m         \u001b[1;32mif\u001b[0m \u001b[0mwith_mean\u001b[0m\u001b[1;33m:\u001b[0m\u001b[1;33m\u001b[0m\u001b[0m\n",
      "\u001b[1;32mH:\\anacondaa\\lib\\site-packages\\sklearn\\utils\\validation.py\u001b[0m in \u001b[0;36mcheck_array\u001b[1;34m(array, accept_sparse, dtype, order, copy, force_all_finite, ensure_2d, allow_nd, ensure_min_samples, ensure_min_features, warn_on_dtype, estimator)\u001b[0m\n\u001b[0;32m    451\u001b[0m                              % (array.ndim, estimator_name))\n\u001b[0;32m    452\u001b[0m         \u001b[1;32mif\u001b[0m \u001b[0mforce_all_finite\u001b[0m\u001b[1;33m:\u001b[0m\u001b[1;33m\u001b[0m\u001b[0m\n\u001b[1;32m--> 453\u001b[1;33m             \u001b[0m_assert_all_finite\u001b[0m\u001b[1;33m(\u001b[0m\u001b[0marray\u001b[0m\u001b[1;33m)\u001b[0m\u001b[1;33m\u001b[0m\u001b[0m\n\u001b[0m\u001b[0;32m    454\u001b[0m \u001b[1;33m\u001b[0m\u001b[0m\n\u001b[0;32m    455\u001b[0m     \u001b[0mshape_repr\u001b[0m \u001b[1;33m=\u001b[0m \u001b[0m_shape_repr\u001b[0m\u001b[1;33m(\u001b[0m\u001b[0marray\u001b[0m\u001b[1;33m.\u001b[0m\u001b[0mshape\u001b[0m\u001b[1;33m)\u001b[0m\u001b[1;33m\u001b[0m\u001b[0m\n",
      "\u001b[1;32mH:\\anacondaa\\lib\\site-packages\\sklearn\\utils\\validation.py\u001b[0m in \u001b[0;36m_assert_all_finite\u001b[1;34m(X)\u001b[0m\n\u001b[0;32m     42\u001b[0m             and not np.isfinite(X).all()):\n\u001b[0;32m     43\u001b[0m         raise ValueError(\"Input contains NaN, infinity\"\n\u001b[1;32m---> 44\u001b[1;33m                          \" or a value too large for %r.\" % X.dtype)\n\u001b[0m\u001b[0;32m     45\u001b[0m \u001b[1;33m\u001b[0m\u001b[0m\n\u001b[0;32m     46\u001b[0m \u001b[1;33m\u001b[0m\u001b[0m\n",
      "\u001b[1;31mValueError\u001b[0m: Input contains NaN, infinity or a value too large for dtype('float64')."
     ]
    }
   ],
   "source": [
    "# Failed\n",
    "# numer[\"Flow Bytes\"] = preprocessing.scale(numer[\"Flow Bytes\"])"
   ]
  },
  {
   "cell_type": "code",
   "execution_count": 26,
   "metadata": {},
   "outputs": [
    {
     "ename": "ValueError",
     "evalue": "Input contains NaN, infinity or a value too large for dtype('float64').",
     "output_type": "error",
     "traceback": [
      "\u001b[1;31m---------------------------------------------------------------------------\u001b[0m",
      "\u001b[1;31mValueError\u001b[0m                                Traceback (most recent call last)",
      "\u001b[1;32m<ipython-input-26-6d541edeb36a>\u001b[0m in \u001b[0;36m<module>\u001b[1;34m()\u001b[0m\n\u001b[1;32m----> 1\u001b[1;33m \u001b[0mnumer\u001b[0m\u001b[1;33m[\u001b[0m\u001b[1;34m\"Flow Packets\"\u001b[0m\u001b[1;33m]\u001b[0m \u001b[1;33m=\u001b[0m \u001b[0mpreprocessing\u001b[0m\u001b[1;33m.\u001b[0m\u001b[0mscale\u001b[0m\u001b[1;33m(\u001b[0m\u001b[0mnumer\u001b[0m\u001b[1;33m[\u001b[0m\u001b[1;34m\"Flow Packets\"\u001b[0m\u001b[1;33m]\u001b[0m\u001b[1;33m)\u001b[0m\u001b[1;33m\u001b[0m\u001b[0m\n\u001b[0m",
      "\u001b[1;32mH:\\anacondaa\\lib\\site-packages\\sklearn\\preprocessing\\data.py\u001b[0m in \u001b[0;36mscale\u001b[1;34m(X, axis, with_mean, with_std, copy)\u001b[0m\n\u001b[0;32m    131\u001b[0m     X = check_array(X, accept_sparse='csc', copy=copy, ensure_2d=False,\n\u001b[0;32m    132\u001b[0m                     \u001b[0mwarn_on_dtype\u001b[0m\u001b[1;33m=\u001b[0m\u001b[1;32mTrue\u001b[0m\u001b[1;33m,\u001b[0m \u001b[0mestimator\u001b[0m\u001b[1;33m=\u001b[0m\u001b[1;34m'the scale function'\u001b[0m\u001b[1;33m,\u001b[0m\u001b[1;33m\u001b[0m\u001b[0m\n\u001b[1;32m--> 133\u001b[1;33m                     dtype=FLOAT_DTYPES)\n\u001b[0m\u001b[0;32m    134\u001b[0m     \u001b[1;32mif\u001b[0m \u001b[0msparse\u001b[0m\u001b[1;33m.\u001b[0m\u001b[0missparse\u001b[0m\u001b[1;33m(\u001b[0m\u001b[0mX\u001b[0m\u001b[1;33m)\u001b[0m\u001b[1;33m:\u001b[0m\u001b[1;33m\u001b[0m\u001b[0m\n\u001b[0;32m    135\u001b[0m         \u001b[1;32mif\u001b[0m \u001b[0mwith_mean\u001b[0m\u001b[1;33m:\u001b[0m\u001b[1;33m\u001b[0m\u001b[0m\n",
      "\u001b[1;32mH:\\anacondaa\\lib\\site-packages\\sklearn\\utils\\validation.py\u001b[0m in \u001b[0;36mcheck_array\u001b[1;34m(array, accept_sparse, dtype, order, copy, force_all_finite, ensure_2d, allow_nd, ensure_min_samples, ensure_min_features, warn_on_dtype, estimator)\u001b[0m\n\u001b[0;32m    451\u001b[0m                              % (array.ndim, estimator_name))\n\u001b[0;32m    452\u001b[0m         \u001b[1;32mif\u001b[0m \u001b[0mforce_all_finite\u001b[0m\u001b[1;33m:\u001b[0m\u001b[1;33m\u001b[0m\u001b[0m\n\u001b[1;32m--> 453\u001b[1;33m             \u001b[0m_assert_all_finite\u001b[0m\u001b[1;33m(\u001b[0m\u001b[0marray\u001b[0m\u001b[1;33m)\u001b[0m\u001b[1;33m\u001b[0m\u001b[0m\n\u001b[0m\u001b[0;32m    454\u001b[0m \u001b[1;33m\u001b[0m\u001b[0m\n\u001b[0;32m    455\u001b[0m     \u001b[0mshape_repr\u001b[0m \u001b[1;33m=\u001b[0m \u001b[0m_shape_repr\u001b[0m\u001b[1;33m(\u001b[0m\u001b[0marray\u001b[0m\u001b[1;33m.\u001b[0m\u001b[0mshape\u001b[0m\u001b[1;33m)\u001b[0m\u001b[1;33m\u001b[0m\u001b[0m\n",
      "\u001b[1;32mH:\\anacondaa\\lib\\site-packages\\sklearn\\utils\\validation.py\u001b[0m in \u001b[0;36m_assert_all_finite\u001b[1;34m(X)\u001b[0m\n\u001b[0;32m     42\u001b[0m             and not np.isfinite(X).all()):\n\u001b[0;32m     43\u001b[0m         raise ValueError(\"Input contains NaN, infinity\"\n\u001b[1;32m---> 44\u001b[1;33m                          \" or a value too large for %r.\" % X.dtype)\n\u001b[0m\u001b[0;32m     45\u001b[0m \u001b[1;33m\u001b[0m\u001b[0m\n\u001b[0;32m     46\u001b[0m \u001b[1;33m\u001b[0m\u001b[0m\n",
      "\u001b[1;31mValueError\u001b[0m: Input contains NaN, infinity or a value too large for dtype('float64')."
     ]
    }
   ],
   "source": [
    "# Failed\n",
    "# numer[\"Flow Packets\"] = preprocessing.scale(numer[\"Flow Packets\"])"
   ]
  },
  {
   "cell_type": "code",
   "execution_count": 27,
   "metadata": {},
   "outputs": [],
   "source": [
    "numer[\"Fwd Packets\"] = preprocessing.scale(numer[\"Fwd Packets\"])\n",
    "numer[\"Bwd Packets\"] = preprocessing.scale(numer[\"Bwd Packets\"])"
   ]
  },
  {
   "cell_type": "code",
   "execution_count": 33,
   "metadata": {},
   "outputs": [
    {
     "name": "stderr",
     "output_type": "stream",
     "text": [
      "H:\\anacondaa\\lib\\site-packages\\sklearn\\utils\\validation.py:475: DataConversionWarning:\n",
      "\n",
      "Data with input dtype int64 was converted to float64 by the scale function.\n",
      "\n"
     ]
    }
   ],
   "source": [
    "numer[' Destination Port']=preprocessing.scale(numer[' Destination Port'])\n",
    "numer[' Flow Duration']=preprocessing.scale(numer[' Flow Duration'])\n",
    "numer[[' Total Fwd Packets',\n",
    "       ' Total Backward Packets']]=preprocessing.scale(numer[[' Total Fwd Packets',' Total Backward Packets']])\n"
   ]
  },
  {
   "cell_type": "code",
   "execution_count": 34,
   "metadata": {},
   "outputs": [],
   "source": [
    "numer[[ \"Total Length of Fwd Packets\",\n",
    "           \" Total Length of Bwd Packets\",\n",
    "           \" Down/Up Ratio\",\n",
    "           \" Fwd Packet Length Max\",\n",
    "           \" Fwd Packet Length Min\",\n",
    "           \" Fwd Packet Length Mean\",\n",
    "           \" Fwd Packet Length Std\",\n",
    "           \"Bwd Packet Length Max\",\n",
    "           \" Bwd Packet Length Min\",\n",
    "           \" Bwd Packet Length Mean\",\n",
    "           ]]=preprocessing.scale(numer[[ \"Total Length of Fwd Packets\",\n",
    "           \" Total Length of Bwd Packets\",\n",
    "           \" Down/Up Ratio\",\n",
    "           \" Fwd Packet Length Max\",\n",
    "           \" Fwd Packet Length Min\",\n",
    "           \" Fwd Packet Length Mean\",\n",
    "           \" Fwd Packet Length Std\",\n",
    "           \"Bwd Packet Length Max\",\n",
    "           \" Bwd Packet Length Min\",\n",
    "           \" Bwd Packet Length Mean\",\n",
    "           ]])"
   ]
  },
  {
   "cell_type": "code",
   "execution_count": 35,
   "metadata": {},
   "outputs": [
    {
     "name": "stderr",
     "output_type": "stream",
     "text": [
      "H:\\anacondaa\\lib\\site-packages\\sklearn\\utils\\validation.py:475: DataConversionWarning:\n",
      "\n",
      "Data with input dtype int64 was converted to float64 by the scale function.\n",
      "\n"
     ]
    }
   ],
   "source": [
    "numer[[\" Bwd Packet Length Std\"]]=preprocessing.scale(numer[[\" Bwd Packet Length Std\"]])\n",
    "numer[\" Flow IAT Mean\"] = preprocessing.scale(numer[\" Flow IAT Mean\"])\n",
    "numer[\" Flow IAT Std\"] = preprocessing.scale(numer[\" Flow IAT Std\"])\n",
    "numer[\" Flow IAT Max\"] = preprocessing.scale(numer[\" Flow IAT Max\"])\n",
    "numer[\" Flow IAT Min\"] = preprocessing.scale(numer[\" Flow IAT Min\"])\n",
    "numer[\"Fwd IAT Total\"] = preprocessing.scale(numer[\"Fwd IAT Total\"])\n",
    "numer[\" Fwd IAT Mean\"] = preprocessing.scale(numer[\" Fwd IAT Mean\"])\n",
    "numer[\" Fwd IAT Std\"] = preprocessing.scale(numer[\" Fwd IAT Std\"])\n",
    "numer[\" Fwd IAT Max\"] = preprocessing.scale(numer[\" Fwd IAT Max\"])\n",
    "numer[\" Fwd IAT Min\"] = preprocessing.scale(numer[\" Fwd IAT Min\"])"
   ]
  },
  {
   "cell_type": "code",
   "execution_count": 36,
   "metadata": {},
   "outputs": [
    {
     "name": "stderr",
     "output_type": "stream",
     "text": [
      "H:\\anacondaa\\lib\\site-packages\\sklearn\\utils\\validation.py:475: DataConversionWarning:\n",
      "\n",
      "Data with input dtype int64 was converted to float64 by the scale function.\n",
      "\n"
     ]
    }
   ],
   "source": [
    "numer[\"Bwd IAT Total\"] = preprocessing.scale(numer[\"Bwd IAT Total\"])\n",
    "numer[\" Bwd IAT Mean\"] = preprocessing.scale(numer[\" Bwd IAT Mean\"])\n",
    "numer[\" Bwd IAT Std\"] = preprocessing.scale(numer[\" Bwd IAT Std\"])\n",
    "numer[\" Bwd IAT Max\"] = preprocessing.scale(numer[\" Bwd IAT Max\"])\n",
    "numer[\" Bwd IAT Min\"] = preprocessing.scale(numer[\" Bwd IAT Min\"])\n",
    "numer[\" Fwd Header Length\"] = preprocessing.scale(numer[\" Fwd Header Length\"])\n",
    "numer[\" Bwd Header Length\"] = preprocessing.scale(numer[\" Bwd Header Length\"])\n",
    "numer[\" Min Packet Length\"] = preprocessing.scale(numer[\" Min Packet Length\"])\n",
    "numer[\" Max Packet Length\"] = preprocessing.scale(numer[\" Max Packet Length\"])\n",
    "numer[\" Packet Length Mean\"] = preprocessing.scale(numer[\" Packet Length Mean\"])\n",
    "numer[\" Packet Length Std\"] = preprocessing.scale(numer[\" Packet Length Std\"])\n",
    "numer[\" Packet Length Variance\"] = preprocessing.scale(numer[\" Packet Length Variance\"])  \n"
   ]
  },
  {
   "cell_type": "code",
   "execution_count": 37,
   "metadata": {},
   "outputs": [
    {
     "name": "stderr",
     "output_type": "stream",
     "text": [
      "H:\\anacondaa\\lib\\site-packages\\sklearn\\utils\\validation.py:475: DataConversionWarning:\n",
      "\n",
      "Data with input dtype int64 was converted to float64 by the scale function.\n",
      "\n"
     ]
    }
   ],
   "source": [
    "numer[\" Avg Bwd Segment Size\"] = preprocessing.scale(numer[\" Avg Bwd Segment Size\"])\n",
    "numer[\" Average Packet Size\"] = preprocessing.scale(numer[\" Average Packet Size\"])\n",
    "numer[\" Avg Fwd Segment Size\"] = preprocessing.scale(numer[\" Avg Fwd Segment Size\"])\n",
    "numer[\" Fwd Header Length\"] = preprocessing.scale(numer[\" Fwd Header Length\"])\n",
    "numer[\"Subflow Fwd Packets\"] = preprocessing.scale(numer[\"Subflow Fwd Packets\"])\n",
    "numer[\" Subflow Fwd Bytes\"] = preprocessing.scale(numer[\" Subflow Fwd Bytes\"])\n",
    "numer[\" Subflow Bwd Packets\"] = preprocessing.scale(numer[\" Subflow Bwd Packets\"])\n",
    "numer[\" Subflow Bwd Bytes\"] = preprocessing.scale(numer[\" Subflow Bwd Bytes\"])\n",
    "numer[\"Init_Win_bytes_forward\"] = preprocessing.scale(numer[\"Init_Win_bytes_forward\"])\n",
    "numer[\" Init_Win_bytes_backward\"] = preprocessing.scale(numer[\" Init_Win_bytes_backward\"])\n",
    "numer[\" act_data_pkt_fwd\"] = preprocessing.scale(numer[\" act_data_pkt_fwd\"])\n",
    "numer[\" min_seg_size_forward\"] = preprocessing.scale(numer[\" min_seg_size_forward\"])\n",
    "numer[\"Active Mean\"] = preprocessing.scale(numer[\"Active Mean\"])\n",
    "numer[\" Active Std\"] = preprocessing.scale(numer[\" Active Std\"])\n",
    "numer[\" Active Max\"] = preprocessing.scale(numer[\" Active Max\"])"
   ]
  },
  {
   "cell_type": "code",
   "execution_count": 38,
   "metadata": {},
   "outputs": [
    {
     "name": "stderr",
     "output_type": "stream",
     "text": [
      "H:\\anacondaa\\lib\\site-packages\\sklearn\\utils\\validation.py:475: DataConversionWarning:\n",
      "\n",
      "Data with input dtype int64 was converted to float64 by the scale function.\n",
      "\n"
     ]
    }
   ],
   "source": [
    "numer[\" Active Min\"] = preprocessing.scale(numer[\" Active Min\"])\n",
    "numer[\"Idle Mean\"] = preprocessing.scale(numer[\"Idle Mean\"])\n",
    "numer[\" Idle Std\"] = preprocessing.scale(numer[\" Idle Std\"])\n",
    "numer[\" Idle Max\"] = preprocessing.scale(numer[\" Idle Max\"])\n",
    "numer[\" Idle Min\"] = preprocessing.scale(numer[\" Idle Min\"])"
   ]
  },
  {
   "cell_type": "code",
   "execution_count": 39,
   "metadata": {},
   "outputs": [],
   "source": [
    "#Input contains NaN, infinity or a value too large for dtype('float64')\n",
    "#numer['Flow Bytes'] = preprocessing.scale(numer['Flow Bytes']) "
   ]
  },
  {
   "cell_type": "code",
   "execution_count": 40,
   "metadata": {},
   "outputs": [],
   "source": [
    "#numer = numer.rename(columns={' Flow Packets/s':'Flow Packets'})\n",
    "# Flow Bytes/s degismemis"
   ]
  },
  {
   "cell_type": "markdown",
   "metadata": {},
   "source": [
    "Now we can re-merge our two DataFrames into a new, scaled X"
   ]
  },
  {
   "cell_type": "code",
   "execution_count": 41,
   "metadata": {},
   "outputs": [],
   "source": [
    "X = pd.concat([numer, cater], axis=1, join='inner')"
   ]
  },
  {
   "cell_type": "code",
   "execution_count": 48,
   "metadata": {},
   "outputs": [
    {
     "data": {
      "text/plain": [
       "(445909, 66)"
      ]
     },
     "execution_count": 48,
     "metadata": {},
     "output_type": "execute_result"
    }
   ],
   "source": [
    "X.shape"
   ]
  },
  {
   "cell_type": "code",
   "execution_count": 43,
   "metadata": {},
   "outputs": [
    {
     "data": {
      "text/html": [
       "<div>\n",
       "<style scoped>\n",
       "    .dataframe tbody tr th:only-of-type {\n",
       "        vertical-align: middle;\n",
       "    }\n",
       "\n",
       "    .dataframe tbody tr th {\n",
       "        vertical-align: top;\n",
       "    }\n",
       "\n",
       "    .dataframe thead th {\n",
       "        text-align: right;\n",
       "    }\n",
       "</style>\n",
       "<table border=\"1\" class=\"dataframe\">\n",
       "  <thead>\n",
       "    <tr style=\"text-align: right;\">\n",
       "      <th></th>\n",
       "      <th>Destination Port</th>\n",
       "      <th>Flow Duration</th>\n",
       "      <th>Total Fwd Packets</th>\n",
       "      <th>Total Backward Packets</th>\n",
       "      <th>Total Length of Fwd Packets</th>\n",
       "      <th>Total Length of Bwd Packets</th>\n",
       "      <th>Down/Up Ratio</th>\n",
       "      <th>Fwd Packet Length Max</th>\n",
       "      <th>Fwd Packet Length Min</th>\n",
       "      <th>Fwd Packet Length Mean</th>\n",
       "      <th>...</th>\n",
       "      <th>Idle Max</th>\n",
       "      <th>Idle Min</th>\n",
       "      <th>Fwd PSH Flags</th>\n",
       "      <th>FIN Flag Count</th>\n",
       "      <th>SYN Flag Count</th>\n",
       "      <th>RST Flag Count</th>\n",
       "      <th>PSH Flag Count</th>\n",
       "      <th>ACK Flag Count</th>\n",
       "      <th>URG Flag Count</th>\n",
       "      <th>ECE Flag Count</th>\n",
       "    </tr>\n",
       "  </thead>\n",
       "  <tbody>\n",
       "    <tr>\n",
       "      <th>0</th>\n",
       "      <td>-0.45026</td>\n",
       "      <td>-0.364688</td>\n",
       "      <td>-0.005536</td>\n",
       "      <td>-0.008452</td>\n",
       "      <td>-0.015891</td>\n",
       "      <td>-0.008190</td>\n",
       "      <td>-1.286299</td>\n",
       "      <td>0.098748</td>\n",
       "      <td>-0.528528</td>\n",
       "      <td>0.126584</td>\n",
       "      <td>...</td>\n",
       "      <td>-0.263447</td>\n",
       "      <td>-0.25348</td>\n",
       "      <td>0</td>\n",
       "      <td>0</td>\n",
       "      <td>0</td>\n",
       "      <td>0</td>\n",
       "      <td>1</td>\n",
       "      <td>0</td>\n",
       "      <td>0</td>\n",
       "      <td>0</td>\n",
       "    </tr>\n",
       "    <tr>\n",
       "      <th>1</th>\n",
       "      <td>-0.45026</td>\n",
       "      <td>-0.364679</td>\n",
       "      <td>-0.003230</td>\n",
       "      <td>-0.008452</td>\n",
       "      <td>0.012294</td>\n",
       "      <td>-0.007205</td>\n",
       "      <td>-1.286299</td>\n",
       "      <td>0.268078</td>\n",
       "      <td>-0.528528</td>\n",
       "      <td>0.160238</td>\n",
       "      <td>...</td>\n",
       "      <td>-0.263447</td>\n",
       "      <td>-0.25348</td>\n",
       "      <td>0</td>\n",
       "      <td>0</td>\n",
       "      <td>0</td>\n",
       "      <td>0</td>\n",
       "      <td>1</td>\n",
       "      <td>0</td>\n",
       "      <td>0</td>\n",
       "      <td>0</td>\n",
       "    </tr>\n",
       "    <tr>\n",
       "      <th>2</th>\n",
       "      <td>-0.45026</td>\n",
       "      <td>-0.364668</td>\n",
       "      <td>-0.005536</td>\n",
       "      <td>-0.008452</td>\n",
       "      <td>0.395602</td>\n",
       "      <td>-0.007249</td>\n",
       "      <td>-1.286299</td>\n",
       "      <td>2.570966</td>\n",
       "      <td>-0.528528</td>\n",
       "      <td>3.074723</td>\n",
       "      <td>...</td>\n",
       "      <td>-0.263447</td>\n",
       "      <td>-0.25348</td>\n",
       "      <td>0</td>\n",
       "      <td>0</td>\n",
       "      <td>0</td>\n",
       "      <td>0</td>\n",
       "      <td>1</td>\n",
       "      <td>0</td>\n",
       "      <td>0</td>\n",
       "      <td>0</td>\n",
       "    </tr>\n",
       "    <tr>\n",
       "      <th>3</th>\n",
       "      <td>-0.45026</td>\n",
       "      <td>-0.364692</td>\n",
       "      <td>-0.005536</td>\n",
       "      <td>-0.008452</td>\n",
       "      <td>-0.013777</td>\n",
       "      <td>-0.008186</td>\n",
       "      <td>-1.286299</td>\n",
       "      <td>0.111447</td>\n",
       "      <td>-0.528528</td>\n",
       "      <td>0.141728</td>\n",
       "      <td>...</td>\n",
       "      <td>-0.263447</td>\n",
       "      <td>-0.25348</td>\n",
       "      <td>0</td>\n",
       "      <td>0</td>\n",
       "      <td>0</td>\n",
       "      <td>0</td>\n",
       "      <td>1</td>\n",
       "      <td>0</td>\n",
       "      <td>0</td>\n",
       "      <td>0</td>\n",
       "    </tr>\n",
       "    <tr>\n",
       "      <th>4</th>\n",
       "      <td>-0.45026</td>\n",
       "      <td>-0.364683</td>\n",
       "      <td>-0.003230</td>\n",
       "      <td>-0.008452</td>\n",
       "      <td>0.014407</td>\n",
       "      <td>-0.007205</td>\n",
       "      <td>-1.286299</td>\n",
       "      <td>0.280777</td>\n",
       "      <td>-0.528528</td>\n",
       "      <td>0.172018</td>\n",
       "      <td>...</td>\n",
       "      <td>-0.263447</td>\n",
       "      <td>-0.25348</td>\n",
       "      <td>0</td>\n",
       "      <td>0</td>\n",
       "      <td>0</td>\n",
       "      <td>0</td>\n",
       "      <td>1</td>\n",
       "      <td>0</td>\n",
       "      <td>0</td>\n",
       "      <td>0</td>\n",
       "    </tr>\n",
       "  </tbody>\n",
       "</table>\n",
       "<p>5 rows × 68 columns</p>\n",
       "</div>"
      ],
      "text/plain": [
       "    Destination Port   Flow Duration   Total Fwd Packets  \\\n",
       "0           -0.45026       -0.364688           -0.005536   \n",
       "1           -0.45026       -0.364679           -0.003230   \n",
       "2           -0.45026       -0.364668           -0.005536   \n",
       "3           -0.45026       -0.364692           -0.005536   \n",
       "4           -0.45026       -0.364683           -0.003230   \n",
       "\n",
       "    Total Backward Packets  Total Length of Fwd Packets  \\\n",
       "0                -0.008452                    -0.015891   \n",
       "1                -0.008452                     0.012294   \n",
       "2                -0.008452                     0.395602   \n",
       "3                -0.008452                    -0.013777   \n",
       "4                -0.008452                     0.014407   \n",
       "\n",
       "    Total Length of Bwd Packets   Down/Up Ratio   Fwd Packet Length Max  \\\n",
       "0                     -0.008190       -1.286299                0.098748   \n",
       "1                     -0.007205       -1.286299                0.268078   \n",
       "2                     -0.007249       -1.286299                2.570966   \n",
       "3                     -0.008186       -1.286299                0.111447   \n",
       "4                     -0.007205       -1.286299                0.280777   \n",
       "\n",
       "    Fwd Packet Length Min   Fwd Packet Length Mean       ...         \\\n",
       "0               -0.528528                 0.126584       ...          \n",
       "1               -0.528528                 0.160238       ...          \n",
       "2               -0.528528                 3.074723       ...          \n",
       "3               -0.528528                 0.141728       ...          \n",
       "4               -0.528528                 0.172018       ...          \n",
       "\n",
       "    Idle Max   Idle Min  Fwd PSH Flags  FIN Flag Count   SYN Flag Count  \\\n",
       "0  -0.263447   -0.25348              0               0                0   \n",
       "1  -0.263447   -0.25348              0               0                0   \n",
       "2  -0.263447   -0.25348              0               0                0   \n",
       "3  -0.263447   -0.25348              0               0                0   \n",
       "4  -0.263447   -0.25348              0               0                0   \n",
       "\n",
       "   RST Flag Count  PSH Flag Count   ACK Flag Count   URG Flag Count  \\\n",
       "0               0               1                0                0   \n",
       "1               0               1                0                0   \n",
       "2               0               1                0                0   \n",
       "3               0               1                0                0   \n",
       "4               0               1                0                0   \n",
       "\n",
       "    ECE Flag Count  \n",
       "0                0  \n",
       "1                0  \n",
       "2                0  \n",
       "3                0  \n",
       "4                0  \n",
       "\n",
       "[5 rows x 68 columns]"
      ]
     },
     "execution_count": 43,
     "metadata": {},
     "output_type": "execute_result"
    }
   ],
   "source": [
    "X.head()"
   ]
  },
  {
   "cell_type": "code",
   "execution_count": 46,
   "metadata": {},
   "outputs": [],
   "source": [
    "X = X.drop(['Flow Bytes','Flow Packets'], axis=1)"
   ]
  },
  {
   "cell_type": "code",
   "execution_count": 47,
   "metadata": {},
   "outputs": [],
   "source": [
    "X.to_csv(\"K:/exportedDFF.csv\")"
   ]
  },
  {
   "cell_type": "code",
   "execution_count": null,
   "metadata": {},
   "outputs": [],
   "source": []
  }
 ],
 "metadata": {
  "kernelspec": {
   "display_name": "Python 3",
   "language": "python",
   "name": "python3"
  },
  "language_info": {
   "codemirror_mode": {
    "name": "ipython",
    "version": 3
   },
   "file_extension": ".py",
   "mimetype": "text/x-python",
   "name": "python",
   "nbconvert_exporter": "python",
   "pygments_lexer": "ipython3",
   "version": "3.6.6"
  }
 },
 "nbformat": 4,
 "nbformat_minor": 2
}
