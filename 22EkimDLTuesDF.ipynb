{
 "cells": [
  {
   "cell_type": "code",
   "execution_count": 1,
   "metadata": {},
   "outputs": [],
   "source": [
    "# Importing required libraries for the project\n",
    "import sys # for python library version\n",
    "import numpy as np # for scientific computing\n",
    "import pandas as pd # for data anaysis\n",
    "import matplotlib # for visualization\n",
    "import seaborn as sns # for visualization\n",
    "import sklearn # ML Library"
   ]
  },
  {
   "cell_type": "code",
   "execution_count": 2,
   "metadata": {},
   "outputs": [],
   "source": [
    "# No warning of any kind please!\n",
    "import warnings\n",
    "# will ignore any warnings\n",
    "warnings.filterwarnings(\"ignore\")"
   ]
  },
  {
   "cell_type": "code",
   "execution_count": 3,
   "metadata": {},
   "outputs": [],
   "source": [
    "# importing the dataset to a variable\n",
    "data = pd.read_csv(\"K:/CIC-2017-dataset/CIC-IDS-2017/MachineLearningCVE/Tuesday-WorkingHours.pcap_ISCX.csv\")\n"
   ]
  },
  {
   "cell_type": "code",
   "execution_count": 4,
   "metadata": {},
   "outputs": [
    {
     "data": {
      "text/plain": [
       " Destination Port                 1.882213\n",
       " Flow Duration                    2.883252\n",
       " Total Fwd Packets              187.174787\n",
       " Total Backward Packets         186.445394\n",
       "Total Length of Fwd Packets     212.797897\n",
       " Total Length of Bwd Packets    189.322395\n",
       " Fwd Packet Length Max           11.967434\n",
       " Fwd Packet Length Min           22.449272\n",
       " Fwd Packet Length Mean          12.421745\n",
       " Fwd Packet Length Std            7.267489\n",
       "Bwd Packet Length Max             3.011906\n",
       " Bwd Packet Length Min            4.799550\n",
       " Bwd Packet Length Mean           3.356727\n",
       " Bwd Packet Length Std            2.423119\n",
       "Flow Bytes/s                           NaN\n",
       " Flow Packets/s                        NaN\n",
       " Flow IAT Mean                    9.618882\n",
       " Flow IAT Std                     7.060611\n",
       " Flow IAT Max                     5.002253\n",
       " Flow IAT Min                    21.824432\n",
       "Fwd IAT Total                     2.921346\n",
       " Fwd IAT Mean                     8.069165\n",
       " Fwd IAT Std                      7.904365\n",
       " Fwd IAT Max                      5.027519\n",
       " Fwd IAT Min                      8.768575\n",
       "Bwd IAT Total                     2.968630\n",
       " Bwd IAT Mean                     8.093422\n",
       " Bwd IAT Std                      8.985902\n",
       " Bwd IAT Max                      5.359520\n",
       " Bwd IAT Min                      8.798414\n",
       "                                   ...    \n",
       " URG Flag Count                   2.412238\n",
       " CWE Flag Count                   0.000000\n",
       " ECE Flag Count                  54.314454\n",
       " Down/Up Ratio                    1.992278\n",
       " Average Packet Size              3.885799\n",
       " Avg Fwd Segment Size            12.421745\n",
       " Avg Bwd Segment Size             3.356727\n",
       " Fwd Header Length.1           -530.129920\n",
       "Fwd Avg Bytes/Bulk                0.000000\n",
       " Fwd Avg Packets/Bulk             0.000000\n",
       " Fwd Avg Bulk Rate                0.000000\n",
       " Bwd Avg Bytes/Bulk               0.000000\n",
       " Bwd Avg Packets/Bulk             0.000000\n",
       "Bwd Avg Bulk Rate                 0.000000\n",
       "Subflow Fwd Packets             187.174787\n",
       " Subflow Fwd Bytes              212.797897\n",
       " Subflow Bwd Packets            186.445394\n",
       " Subflow Bwd Bytes              189.319427\n",
       "Init_Win_bytes_forward            2.538223\n",
       " Init_Win_bytes_backward          4.071822\n",
       " act_data_pkt_fwd                76.267784\n",
       " min_seg_size_forward          -201.331703\n",
       "Active Mean                      49.118438\n",
       " Active Std                      20.951683\n",
       " Active Max                      21.257932\n",
       " Active Min                      62.108652\n",
       "Idle Mean                         5.420068\n",
       " Idle Std                        19.296269\n",
       " Idle Max                         5.269398\n",
       " Idle Min                         5.602615\n",
       "Length: 78, dtype: float64"
      ]
     },
     "execution_count": 4,
     "metadata": {},
     "output_type": "execute_result"
    }
   ],
   "source": [
    "# skew distribution\n",
    "data.skew()"
   ]
  },
  {
   "cell_type": "code",
   "execution_count": 5,
   "metadata": {},
   "outputs": [],
   "source": [
    "data = data.rename(columns={\"Flow Bytes/s\":\"Flow Bytes\", \" Flow Packets/s\":\"Flow Packets\", \"Fwd Packets/s\":\"Fwd Packets\", \" Bwd Packets/s\":\"Bwd Packets\"})\n"
   ]
  },
  {
   "cell_type": "code",
   "execution_count": 6,
   "metadata": {},
   "outputs": [],
   "source": [
    "data = data.drop([\" Bwd PSH Flags\",  # 0\n",
    "           \" Fwd URG Flags\",  # 0\n",
    "           \" Bwd URG Flags\",\n",
    "           \" CWE Flag Count\",\n",
    "           \"Fwd Avg Bytes/Bulk\",  # 0\n",
    "           \" Fwd Avg Packets/Bulk\", # 0\n",
    "           \" Fwd Avg Bulk Rate\",  # 0\n",
    "           \" Bwd Avg Bytes/Bulk\",  # 0\n",
    "           \" Bwd Avg Packets/Bulk\", # 0\n",
    "           \"Bwd Avg Bulk Rate\",\n",
    "            \"Flow Bytes\",\"Flow Packets\"], axis=1)"
   ]
  },
  {
   "cell_type": "code",
   "execution_count": 7,
   "metadata": {},
   "outputs": [
    {
     "data": {
      "text/plain": [
       " Label\n",
       "BENIGN         432074\n",
       "FTP-Patator      7938\n",
       "SSH-Patator      5897\n",
       "dtype: int64"
      ]
     },
     "execution_count": 7,
     "metadata": {},
     "output_type": "execute_result"
    }
   ],
   "source": [
    "# grouping by forest cover type and calculating total occurance\n",
    "data.groupby(' Label').size()   # (445909, 67)"
   ]
  },
  {
   "cell_type": "code",
   "execution_count": 8,
   "metadata": {},
   "outputs": [],
   "source": [
    "data.loc[data[' Label'] == 'BENIGN'] = 0\n",
    "data.loc[data[' Label'] == 'FTP-Patator'] = 1\n",
    "data.loc[data[' Label'] == 'SSH-Patator'] = 2"
   ]
  },
  {
   "cell_type": "code",
   "execution_count": 9,
   "metadata": {},
   "outputs": [],
   "source": [
    "# feeding all our features to var 'X'\n",
    "X = data.iloc[:,:-1]   # (445909, 66)\n",
    "# feeding our target variable to var 'y'\n",
    "y = data[' Label']"
   ]
  },
  {
   "cell_type": "code",
   "execution_count": 10,
   "metadata": {},
   "outputs": [
    {
     "data": {
      "text/plain": [
       "(445909,)"
      ]
     },
     "execution_count": 10,
     "metadata": {},
     "output_type": "execute_result"
    }
   ],
   "source": [
    "y.shape"
   ]
  },
  {
   "cell_type": "code",
   "execution_count": 11,
   "metadata": {},
   "outputs": [
    {
     "data": {
      "text/plain": [
       "(445909, 67)"
      ]
     },
     "execution_count": 11,
     "metadata": {},
     "output_type": "execute_result"
    }
   ],
   "source": [
    "data.shape"
   ]
  },
  {
   "cell_type": "code",
   "execution_count": 12,
   "metadata": {},
   "outputs": [],
   "source": [
    "# importing train-test function\n",
    "from sklearn.model_selection import train_test_split\n",
    "\n",
    "# split the data in 75%-25% train-test respectively with fixed state\n",
    "X_train, X_test, y_train, y_test = train_test_split(X, y, test_size = 0.25, random_state = 53)"
   ]
  },
  {
   "cell_type": "code",
   "execution_count": 13,
   "metadata": {},
   "outputs": [
    {
     "name": "stderr",
     "output_type": "stream",
     "text": [
      "Using TensorFlow backend.\n"
     ]
    }
   ],
   "source": [
    "from keras.models import Sequential\n",
    "from keras import initializers\n",
    "from keras.layers import Dense\n",
    "from keras.utils import np_utils\n",
    "\n",
    "model = Sequential()\n",
    "model.add(Dense(4, input_dim=66, activation='relu'))\n",
    "model.add(Dense(1,activation='sigmoid'))"
   ]
  },
  {
   "cell_type": "code",
   "execution_count": 14,
   "metadata": {},
   "outputs": [
    {
     "name": "stdout",
     "output_type": "stream",
     "text": [
      "Epoch 1/1\n",
      "334431/334431 [==============================] - 40s 120us/step - loss: -0.1778 - acc: 0.9868\n",
      "111478/111478 [==============================] - 2s 19us/step\n",
      "\n",
      "acc: 98.68%\n"
     ]
    }
   ],
   "source": [
    "model.compile(loss='binary_crossentropy', optimizer='adam', metrics=['accuracy'])\n",
    "model.fit(X_train, y_train,epochs=1, batch_size=10)\n",
    "scores = model.evaluate(X_test, y_test)\n",
    "print(\"\\n%s: %.2f%%\" % (model.metrics_names[1], scores[1]*100))"
   ]
  },
  {
   "cell_type": "code",
   "execution_count": 15,
   "metadata": {},
   "outputs": [],
   "source": [
    "def NNfun( hlayers ):\n",
    " model1=Sequential()\n",
    " model1.add(Dense(4, input_dim=66, activation='relu'))\n",
    " for x in range(hlayers-1):\n",
    "     model1.add(Dense(4, activation='relu'))\n",
    " model1.add(Dense(1,activation='sigmoid'))\n",
    " model1.compile(loss='binary_crossentropy', optimizer='adam', metrics=['accuracy'])\n",
    " model1.fit(X_train, y_train,epochs=1, batch_size=10)\n",
    " scores1 = model1.evaluate(X_test, y_test)\n",
    " return scores1;"
   ]
  },
  {
   "cell_type": "code",
   "execution_count": 16,
   "metadata": {},
   "outputs": [],
   "source": [
    "def NNfunw(  ):\n",
    " model1=Sequential()\n",
    " myinit=initializers.RandomNormal(mean=0.0, stddev=0.05, seed=None)\n",
    " model1.add(Dense(4, input_dim=66, kernel_initializer=myinit,\n",
    "                bias_initializer='zeros', activation='relu'))\n",
    " model1.add(Dense(1,activation='sigmoid'))\n",
    " model1.compile(loss='binary_crossentropy', optimizer='adam', metrics=['accuracy'])\n",
    " model1.fit(X_train, y_train,epochs=1, batch_size=10)\n",
    " scores1 = model1.evaluate(X_test, y_test)\n",
    " return scores1;"
   ]
  },
  {
   "cell_type": "code",
   "execution_count": 17,
   "metadata": {},
   "outputs": [
    {
     "name": "stdout",
     "output_type": "stream",
     "text": [
      "Epoch 1/1\n",
      "334431/334431 [==============================] - 47s 139us/step - loss: 0.1989 - acc: 0.9687\n",
      "111478/111478 [==============================] - 2s 21us/step\n",
      "Epoch 1/1\n",
      "334431/334431 [==============================] - 51s 153us/step - loss: -0.1969 - acc: 0.9867\n",
      "111478/111478 [==============================] - 3s 22us/step\n",
      "Epoch 1/1\n",
      "334431/334431 [==============================] - 50s 150us/step - loss: -0.1989 - acc: 0.9867\n",
      "111478/111478 [==============================] - 3s 24us/step\n",
      "Epoch 1/1\n",
      "334431/334431 [==============================] - 54s 162us/step - loss: 0.1992 - acc: 0.9687\n",
      "111478/111478 [==============================] - 4s 31us/step\n",
      "Epoch 1/1\n",
      "334431/334431 [==============================] - 58s 173us/step - loss: 0.1995 - acc: 0.9687\n",
      "111478/111478 [==============================] - 3s 28us/step\n",
      "Epoch 1/1\n",
      "334431/334431 [==============================] - 66s 197us/step - loss: -0.1780 - acc: 0.9868\n",
      "111478/111478 [==============================] - 3s 31us/step\n"
     ]
    },
    {
     "data": {
      "image/png": "[encoded data removed]",
      "text/plain": [
       "<Figure size 432x288 with 1 Axes>"
      ]
     },
     "metadata": {},
     "output_type": "display_data"
    }
   ],
   "source": [
    "Hypl=[]\n",
    "for x in range(4,10):\n",
    " scr1 = NNfun(x)\n",
    " Hypl=Hypl + scr1\n",
    "import matplotlib.pyplot as plt\n",
    "Hypl1=[Hypl[1],Hypl[3],Hypl[5],Hypl[7],Hypl[9],Hypl[11]]\n",
    "plt.plot([4,5,6,7,8,9],Hypl1)\n",
    "plt.show()"
   ]
  },
  {
   "cell_type": "code",
   "execution_count": 18,
   "metadata": {},
   "outputs": [
    {
     "data": {
      "image/png": "[encoded data removed]",
      "text/plain": [
       "<Figure size 432x288 with 1 Axes>"
      ]
     },
     "metadata": {},
     "output_type": "display_data"
    }
   ],
   "source": [
    "Hypl2=[Hypl[0],Hypl[2],Hypl[4],Hypl[6],Hypl[8],Hypl[10]]\n",
    "plt.plot([4,5,6,7,8,9],Hypl2)\n",
    "plt.show()"
   ]
  },
  {
   "cell_type": "code",
   "execution_count": 19,
   "metadata": {},
   "outputs": [
    {
     "name": "stdout",
     "output_type": "stream",
     "text": [
      "Epoch 1/1\n",
      "334431/334431 [==============================] - 47s 141us/step - loss: -0.1779 - acc: 0.9868\n",
      "111478/111478 [==============================] - 3s 26us/step\n",
      "Epoch 1/1\n",
      "334431/334431 [==============================] - 47s 141us/step - loss: 0.1995 - acc: 0.9687\n",
      "111478/111478 [==============================] - 3s 27us/step\n",
      "Epoch 1/1\n",
      "334431/334431 [==============================] - 50s 151us/step - loss: -0.1777 - acc: 0.9868\n",
      "111478/111478 [==============================] - 3s 27us/step\n",
      "Epoch 1/1\n",
      "334431/334431 [==============================] - 47s 141us/step - loss: -0.1780 - acc: 0.9868\n",
      "111478/111478 [==============================] - 3s 30us/step\n"
     ]
    }
   ],
   "source": [
    "Hypr=[]\n",
    "for x in range(1,5):\n",
    " scr2 = NNfunw()\n",
    " Hypr=Hypr + scr1"
   ]
  },
  {
   "cell_type": "code",
   "execution_count": 20,
   "metadata": {},
   "outputs": [
    {
     "data": {
      "image/png": "[encoded data removed]",
      "text/plain": [
       "<Figure size 432x288 with 1 Axes>"
      ]
     },
     "metadata": {},
     "output_type": "display_data"
    }
   ],
   "source": [
    "Hypr1=[Hypr[0],Hypr[2],Hypr[4],Hypr[6]]\n",
    "plt.plot([1,2,3,4],Hypr1)\n",
    "plt.show()"
   ]
  },
  {
   "cell_type": "code",
   "execution_count": 21,
   "metadata": {},
   "outputs": [
    {
     "data": {
      "image/png": "[encoded data removed]",
      "text/plain": [
       "<Figure size 432x288 with 1 Axes>"
      ]
     },
     "metadata": {},
     "output_type": "display_data"
    }
   ],
   "source": [
    "Hypr2=[Hypr[1],Hypr[3],Hypr[5],Hypr[7]]\n",
    "plt.plot([1,2,3,4],Hypr2)\n",
    "plt.show()"
   ]
  },
  {
   "cell_type": "code",
   "execution_count": null,
   "metadata": {},
   "outputs": [],
   "source": []
  }
 ],
 "metadata": {
  "kernelspec": {
   "display_name": "Python 3",
   "language": "python",
   "name": "python3"
  },
  "language_info": {
   "codemirror_mode": {
    "name": "ipython",
    "version": 3
   },
   "file_extension": ".py",
   "mimetype": "text/x-python",
   "name": "python",
   "nbconvert_exporter": "python",
   "pygments_lexer": "ipython3",
   "version": "3.6.6"
  }
 },
 "nbformat": 4,
 "nbformat_minor": 2
}
